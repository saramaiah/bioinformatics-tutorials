{
 "cells": [
  {
   "cell_type": "markdown",
   "id": "9ecaaf0c-f4ed-4ce3-88ef-dc2531c6c863",
   "metadata": {},
   "source": [
    "ISMB 2024 Tutorial: Multi-omic data integration for microbiome research using scikit-bio\n",
    "\n",
    "# Section 01: Basic bioinformatics using scikit-bio\n",
    "\n",
    "- Time: 9:00 - 10:00 EDT, Jul 11, 2024\n",
    "- Instructor: Matthew Aton\n",
    "\n",
    "---\n",
    "\n",
    "Published by scikit-bio [here](https://github.com/scikit-bio/scikit-bio-tutorials/blob/247a4a25f1568ab088d8a152a63074dabb3cf092/01-basic-bioinfo/01-basic-bioinfo.ipynb)."
   ]
  },
  {
   "cell_type": "markdown",
   "id": "ac4c4e15-f8fe-435b-a495-990ab4cedf82",
   "metadata": {},
   "source": [
    "Welcome to the tutorial for using the Python package **scikit-bio** (https://scikit.bio) for omic data analysis and microbiome research! This section serves as an introduction to scikit-bio. It will guide you through the installation, and give you the first glimpse of scikit-bio's flavor and functionality by walking through a very basic series of bioinformatic analyses: sequence, alignment, and phylogeny."
   ]
  },
  {
   "cell_type": "markdown",
   "id": "c3df54bc-38fd-47d5-8032-82055bb3b80a",
   "metadata": {},
   "source": [
    "## Preparation\n",
    "\n",
    "*Editor's note: I removed the setup section from the original document so as to avoid confusion. Please see the original [here](https://github.com/scikit-bio/scikit-bio-tutorials/blob/247a4a25f1568ab088d8a152a63074dabb3cf092/01-basic-bioinfo/01-basic-bioinfo.ipynb) if you would like to see their installation methods.*"
   ]
  },
  {
   "cell_type": "markdown",
   "id": "50a5bee9-c11e-484d-96ee-7deb43fe4911",
   "metadata": {},
   "source": [
    "Check if scikit-bio can be imported into Python."
   ]
  },
  {
   "cell_type": "code",
   "execution_count": null,
   "id": "c558c114-5c8a-4e7e-83ac-71bac266d039",
   "metadata": {},
   "outputs": [],
   "source": [
    "import skbio\n",
    "skbio.__version__"
   ]
  },
  {
   "cell_type": "markdown",
   "id": "a34341b6-e344-425b-aac3-d7dbb2200d56",
   "metadata": {},
   "source": [
    "### Access data files"
   ]
  },
  {
   "cell_type": "markdown",
   "id": "fa781f7a-d59d-4a69-86ba-a49c23398acf",
   "metadata": {},
   "source": [
    "Data files to be used during the tutorial may be accessed via any of the three methods, depending on your preference."
   ]
  },
  {
   "cell_type": "markdown",
   "id": "bdc13d42-579e-427e-baf7-adc2be002047",
   "metadata": {},
   "source": [
    "#### 1. Download as needed during the tutorial"
   ]
  },
  {
   "cell_type": "code",
   "execution_count": null,
   "id": "6087c4a1-aac1-4d23-ac69-7133a7121093",
   "metadata": {},
   "outputs": [],
   "source": [
    "## These do not need to be run, the data should already be in the 'data' folder.\n",
    "## If it isn't, then run this code and move the 'intro' folder into the 'data' folder.\n",
    "# !wget -q -O ../data/intro.tar.gz \"https://www.dropbox.com/scl/fi/1oou3hrzebog6jhb06nqq/intro.tar.gz?rlkey=8lt3oabfkdp738xy4wy5cdg1t&dl=0\"\n",
    "# !tar zxf ../data/intro.tar.gz"
   ]
  },
  {
   "cell_type": "code",
   "execution_count": null,
   "id": "799e4578-3ae4-45b0-ad16-b24e174f58f2",
   "metadata": {},
   "outputs": [],
   "source": [
    "HOME = '../data/intro'"
   ]
  },
  {
   "cell_type": "code",
   "execution_count": null,
   "id": "6b069024-a005-4ec0-bb2e-ef6a22139c97",
   "metadata": {},
   "outputs": [],
   "source": [
    "!ls $HOME"
   ]
  },
  {
   "cell_type": "markdown",
   "id": "f95445b2-fbe0-41d6-a11a-06f51008575f",
   "metadata": {},
   "source": [
    "Let's mute some warnings."
   ]
  },
  {
   "cell_type": "code",
   "execution_count": null,
   "id": "2da04d00-1ffe-4467-a8f5-72434b0d86d0",
   "metadata": {},
   "outputs": [],
   "source": [
    "import warnings\n",
    "warnings.filterwarnings('ignore')"
   ]
  },
  {
   "cell_type": "markdown",
   "id": "ee6658e0-93d2-48b2-a4b9-6c83888c85d4",
   "metadata": {},
   "source": [
    "## Reading sequences"
   ]
  },
  {
   "cell_type": "markdown",
   "id": "5a6657d2-f84a-4def-badd-aab4fd0e52e7",
   "metadata": {},
   "source": [
    "The downloaded data package has a single file: `il6.ffn`. It is a [FASTA](https://en.wikipedia.org/wiki/FASTA_format) file containing the coding sequences (CDSes) of the [Interleukin 6](https://en.wikipedia.org/wiki/Interleukin_6) (**IL6**) gene of seven representative organisms.\n",
    "\n",
    "- _Homo sapiens_ (human)\n",
    "- _Pan troglodytes_ (chimp)\n",
    "- _Macaca mulatta_ (monkey)\n",
    "- _Sus scrofa_ (pig)\n",
    "- _Mus musculus_ (mouse)\n",
    "- _Rattus norvegicus_ (rat)\n",
    "- _Gallus gallus_ (chicken)"
   ]
  },
  {
   "cell_type": "markdown",
   "id": "4db0d786-bcf9-4022-bbcb-3f2567bdc21d",
   "metadata": {},
   "source": [
    "We will read all sequences from the file into Python. These are DNA sequences. scikit-bio's [`DNA`](https://scikit.bio/docs/latest/generated/skbio.sequence.DNA.html) class can handle them."
   ]
  },
  {
   "cell_type": "code",
   "execution_count": null,
   "id": "0c9c6e2f-3fec-4ac5-bf29-22a883dd21a9",
   "metadata": {},
   "outputs": [],
   "source": [
    "from skbio import DNA"
   ]
  },
  {
   "cell_type": "markdown",
   "id": "f22effde-8c61-4de6-9abb-eb4f08e1a82e",
   "metadata": {},
   "source": [
    "Since we ultimately want a list of `DNA` sequences, we instantiate an empty list and append each sequence to that list using a for loop and `skbio.io.read`. By setting the `constructor` parameter to `DNA`, read will automatically convert each sequence into a scikit-bio `DNA` object. For protein or RNA sequences, the constructor can be set to `Protein` or `RNA`, respectively."
   ]
  },
  {
   "cell_type": "code",
   "execution_count": null,
   "id": "b9b2dcc9-273f-48b8-9009-322544ae8f8a",
   "metadata": {},
   "outputs": [],
   "source": [
    "seqs = []\n",
    "for seq in skbio.io.read(f'{HOME}/il6.ffn', format='fasta', constructor=DNA):\n",
    "    seqs.append(seq)"
   ]
  },
  {
   "cell_type": "markdown",
   "id": "e535abec-7388-4d85-b8f9-d4e7eab8882e",
   "metadata": {},
   "source": [
    "## Basic sequence types"
   ]
  },
  {
   "cell_type": "markdown",
   "id": "4825cc88-8b52-4b04-9e32-e9c315a6816a",
   "metadata": {},
   "source": [
    "scikit-bio supports the three basic sequence types of biology: DNA, RNA, and Protein. Additionally, each type of sequence may include optional metadata and positional metadata, which are each mutable."
   ]
  },
  {
   "cell_type": "markdown",
   "id": "3de084c0-2b51-4279-abfa-f5c01045bf00",
   "metadata": {},
   "source": [
    "We now have a list of sequences. Python list indexing can be used to show us the first two sequences in our list. They are the human and mouse IL6 coding regions. Let's explore each of these a bit more to see what functionality scikit-bio offers."
   ]
  },
  {
   "cell_type": "code",
   "execution_count": null,
   "id": "593d72a0-bf32-4767-afcf-4ea5c17f6bb1",
   "metadata": {},
   "outputs": [],
   "source": [
    "human = seqs[0]\n",
    "human"
   ]
  },
  {
   "cell_type": "code",
   "execution_count": null,
   "id": "6a5fedc8-9e01-4f83-a183-8e77514e33d5",
   "metadata": {},
   "outputs": [],
   "source": [
    "mouse = seqs[1]\n",
    "mouse"
   ]
  },
  {
   "cell_type": "markdown",
   "id": "08aa22f1-d003-4e5b-9e41-8963a8c372dc",
   "metadata": {},
   "source": [
    "The primary information stored for each type of sequence object is the underlying sequence data itself, which is stored as an immutable NumPy array of 8-bit integers. This uses ASCII encoding and offers significant performance gains compared to operating on the strings of letters which compose the sequences."
   ]
  },
  {
   "cell_type": "code",
   "execution_count": null,
   "id": "1dfed102-d9ec-4c91-8e71-9ae1fd413627",
   "metadata": {},
   "outputs": [],
   "source": [
    "human._bytes[:100]"
   ]
  },
  {
   "cell_type": "markdown",
   "id": "f2e0585e-f283-4bb8-9c50-74e732e3fba4",
   "metadata": {},
   "source": [
    "Common operations are defined as methods, for example computing the **reverse complement** of a DNA sequence, or searching for N-glycosylation motifs in protein sequences. Class attributes provide valid character sets, complement maps for different sequence types, and degenerate character definitions."
   ]
  },
  {
   "cell_type": "code",
   "execution_count": null,
   "id": "558b4e60-0fa2-4239-88d4-715090933abf",
   "metadata": {},
   "outputs": [],
   "source": [
    "human.reverse_complement()"
   ]
  },
  {
   "cell_type": "markdown",
   "id": "6b3b534d-6b40-46df-8365-1662f358aa5d",
   "metadata": {},
   "source": [
    "We can also **transcribe** and **translate** sequences with built-in methods of the sequence objects."
   ]
  },
  {
   "cell_type": "code",
   "execution_count": null,
   "id": "8e37ef14-b45f-448e-ba06-e266c9543791",
   "metadata": {},
   "outputs": [],
   "source": [
    "human.transcribe()"
   ]
  },
  {
   "cell_type": "code",
   "execution_count": null,
   "id": "e30fd728-ae62-45ae-be82-649066e98542",
   "metadata": {},
   "outputs": [],
   "source": [
    "human.translate()"
   ]
  },
  {
   "cell_type": "markdown",
   "id": "d6f9da9b-8caa-447c-86a2-b1eeff5b6a82",
   "metadata": {},
   "source": [
    "## Pairwise Alignment"
   ]
  },
  {
   "cell_type": "markdown",
   "id": "b9b048f2-b4b2-4591-a1c8-d2639e402488",
   "metadata": {
    "jp-MarkdownHeadingCollapsed": true
   },
   "source": [
    "scikit-bio provides methods for [sequence alignment](https://en.wikipedia.org/wiki/Sequence_alignment). We will start by showing the functionality of **local pairwise alignment** using the Striped Smith-Waterman (SSW) algorithm, as implemented in [`local_pairwise_align_ssw`](https://scikit.bio/docs/latest/generated/skbio.alignment.local_pairwise_align_ssw.html). The output of the function provides the alignment, the alignment score, and the start and end positions for the two sequences in the alignment.\n",
    "\n",
    "- Upgrade of alignment algorithms in scikit-bio is currently in progress to make them more efficient and usable."
   ]
  },
  {
   "cell_type": "code",
   "execution_count": null,
   "id": "da732f82-3c0f-4eb3-8fef-e171af3e4ce6",
   "metadata": {},
   "outputs": [],
   "source": [
    "from skbio.alignment import local_pairwise_align_ssw"
   ]
  },
  {
   "cell_type": "code",
   "execution_count": null,
   "id": "9c47ae5b-279d-4559-98b4-5fd32c5c41b3",
   "metadata": {},
   "outputs": [],
   "source": [
    "align, score, pos = local_pairwise_align_ssw(human, mouse)"
   ]
  },
  {
   "cell_type": "code",
   "execution_count": null,
   "id": "90a548eb-722c-4fbe-9d77-c9a8ac279750",
   "metadata": {},
   "outputs": [],
   "source": [
    "score"
   ]
  },
  {
   "cell_type": "code",
   "execution_count": null,
   "id": "4c0e29cf-7003-4928-8b9a-bd8ba1f90ec2",
   "metadata": {},
   "outputs": [],
   "source": [
    "pos"
   ]
  },
  {
   "cell_type": "markdown",
   "id": "28349725-1971-437e-aa91-dad3f76b8362",
   "metadata": {},
   "source": [
    "The alignment is a tabular multiple sequence alignment ([`TabularMSA`](https://scikit.bio/docs/latest/generated/skbio.alignment.TabularMSA.html)) object. It is a data structure meant for intuitive manipulation and visualization of pairwise or multiple sequence alignments."
   ]
  },
  {
   "cell_type": "code",
   "execution_count": null,
   "id": "89536739-8158-43df-8654-130cdab72a01",
   "metadata": {},
   "outputs": [],
   "source": [
    "align"
   ]
  },
  {
   "cell_type": "markdown",
   "id": "f8ee3b97-aac3-4d60-a10b-4f1170f03daf",
   "metadata": {},
   "source": [
    "### Alignment path"
   ]
  },
  {
   "cell_type": "markdown",
   "id": "904a4fdb-1b17-44f5-b2c0-29296ea99270",
   "metadata": {},
   "source": [
    "scikit-bio further provides [`AlignPath`](https://scikit.bio/docs/latest/generated/skbio.alignment.AlignPath.html) (and its derivative `PairAlignPath`), a more memory and compute efficient data structure. It stores the alignment path but not the sequences."
   ]
  },
  {
   "cell_type": "code",
   "execution_count": null,
   "id": "9e4c9414-85ac-42af-963f-6a28ed91cc69",
   "metadata": {},
   "outputs": [],
   "source": [
    "from skbio.alignment import AlignPath, PairAlignPath"
   ]
  },
  {
   "cell_type": "code",
   "execution_count": null,
   "id": "2f93769e-308f-4580-ae88-4c11c2ab86a6",
   "metadata": {},
   "outputs": [],
   "source": [
    "path = PairAlignPath.from_tabular(align)\n",
    "path"
   ]
  },
  {
   "cell_type": "markdown",
   "id": "6d685968-58d7-418c-b80f-7e95db9136da",
   "metadata": {},
   "source": [
    "The underlying data structure of an alignment path is two arrays: `lengths` and `states`. The `lengths` array represents the segment length for each segment with consistent gap status. The sum of the `lengths` array is equal to the number of the positions in the alignment, in our case 588."
   ]
  },
  {
   "cell_type": "code",
   "execution_count": null,
   "id": "68497d95-9101-4434-b517-00f9b587ce85",
   "metadata": {},
   "outputs": [],
   "source": [
    "path.lengths"
   ]
  },
  {
   "cell_type": "code",
   "execution_count": null,
   "id": "fee9bf4e-e90e-4527-b82e-0aaea687df7d",
   "metadata": {},
   "outputs": [],
   "source": [
    "path.lengths.sum()"
   ]
  },
  {
   "cell_type": "markdown",
   "id": "c96e2ade-1f45-439e-8da9-ec3acfd748ab",
   "metadata": {},
   "source": [
    "The `states` array represents the gap status of each individual segment in the alignment. For a pairwise alignment `0` means (mis)match, `1` means insertion, and `2` means deletion."
   ]
  },
  {
   "cell_type": "code",
   "execution_count": null,
   "id": "3b6414f3-da16-44a3-9db0-438c21250691",
   "metadata": {},
   "outputs": [],
   "source": [
    "path.states"
   ]
  },
  {
   "cell_type": "markdown",
   "id": "c190b817-777f-4292-872a-19d0a03141a9",
   "metadata": {},
   "source": [
    "A pairwise alignment path can be converted into a [CIGAR string](https://en.wikipedia.org/wiki/Sequence_alignment#CIGAR_Format)."
   ]
  },
  {
   "cell_type": "code",
   "execution_count": null,
   "id": "ed7d347b-fd80-4cf5-a784-f2b4b592f9e1",
   "metadata": {},
   "outputs": [],
   "source": [
    "path.to_cigar()"
   ]
  },
  {
   "cell_type": "markdown",
   "id": "5aff9a0e-528e-4756-bbc4-637e8ddb71f9",
   "metadata": {},
   "source": [
    "If greater resolution is desired between match and mismatch (`=` and `X` vs `M` in CIGAR strings), you may pass the sequences to `to_cigar`."
   ]
  },
  {
   "cell_type": "code",
   "execution_count": null,
   "id": "27a0cf3a-ba4f-4db7-b93e-be5d760bb9cc",
   "metadata": {},
   "outputs": [],
   "source": [
    "path.to_cigar(seqs=[align[0], align[1]])"
   ]
  },
  {
   "cell_type": "markdown",
   "id": "c1051976-ebed-4069-9f11-75ac1e328140",
   "metadata": {},
   "source": [
    "### Substitution matrix"
   ]
  },
  {
   "cell_type": "markdown",
   "id": "f14f3e90-c33c-48df-b9a9-72ce11777ccd",
   "metadata": {},
   "source": [
    "For protein sequence alignment, a [**substitution matrix**](https://en.wikipedia.org/wiki/Substitution_matrix) is usually used to define the scores of changes between amino acids. scikit-bio's [`SubstitutionMatrix`](https://scikit.bio/docs/latest/generated/skbio.sequence.SubstitutionMatrix.html) class provides this functionality."
   ]
  },
  {
   "cell_type": "code",
   "execution_count": null,
   "id": "87acee03-b202-49b7-88b5-f13347e652b1",
   "metadata": {},
   "outputs": [],
   "source": [
    "from skbio import SubstitutionMatrix"
   ]
  },
  {
   "cell_type": "markdown",
   "id": "521aef99-6587-427e-bafb-95859f93f58e",
   "metadata": {},
   "source": [
    "Load a pre-defined substitution matrix, for example [BLOSUM62](https://en.wikipedia.org/wiki/BLOSUM). "
   ]
  },
  {
   "cell_type": "code",
   "execution_count": null,
   "id": "182479e6-e822-43e4-9b6f-bf4ed4ff1b8d",
   "metadata": {},
   "outputs": [],
   "source": [
    "sm = SubstitutionMatrix.by_name('BLOSUM62')"
   ]
  },
  {
   "cell_type": "markdown",
   "id": "0613c82e-0a98-4ddb-a823-a0d80e89700e",
   "metadata": {},
   "source": [
    "The substitution matrix can be fed into the alignment algorithm."
   ]
  },
  {
   "cell_type": "code",
   "execution_count": null,
   "id": "36dcccdb-5fb0-4c84-bd68-634c1265baa7",
   "metadata": {},
   "outputs": [],
   "source": [
    "sm_dict = substitution_matrix=sm.to_dict()"
   ]
  },
  {
   "cell_type": "code",
   "execution_count": null,
   "id": "f6423fe2-2222-48f4-b62e-f27cf850eee2",
   "metadata": {},
   "outputs": [],
   "source": [
    "align, score, pos = local_pairwise_align_ssw(\n",
    "    human.translate(), mouse.translate(), substitution_matrix=sm_dict)\n",
    "align"
   ]
  },
  {
   "cell_type": "markdown",
   "id": "4e90a56a-246f-4dd3-a3b3-b4342842df93",
   "metadata": {},
   "source": [
    "## Multiple Alignment"
   ]
  },
  {
   "cell_type": "markdown",
   "id": "7070a9ca-c3db-45c7-907a-4dbee00063c2",
   "metadata": {},
   "source": [
    "It is also possible to use scikit-bio to perform [multiple sequence alignment](https://en.wikipedia.org/wiki/Multiple_sequence_alignment). The following code demonstrates the procedures of [**progressive alignment**](https://en.wikipedia.org/wiki/Multiple_sequence_alignment#Progressive_alignment_construction) -- a classical strategy for aligning multiple sequences."
   ]
  },
  {
   "cell_type": "markdown",
   "id": "3e2f074e-000f-4ef4-b25d-177818d5a5dc",
   "metadata": {},
   "source": [
    "Here, we will first translate the sequences into protein, and align the protein sequences from the seven organisms. We also create a dictionary of the sequences where each key is the name of the organism, and each value is the `Protein` sequence of that organism. This step is necessary for the progressive alignment function we've written. As you see below, translation of all the sequences is possible in a single line of code using list comprehension."
   ]
  },
  {
   "cell_type": "code",
   "execution_count": null,
   "id": "1c16d746-dfb5-4194-bc55-7819348270f3",
   "metadata": {},
   "outputs": [],
   "source": [
    "prot_seqs = [seq.translate() for seq in seqs]"
   ]
  },
  {
   "cell_type": "code",
   "execution_count": null,
   "id": "5959485b-b2b8-496a-88e4-44782d4bb3ef",
   "metadata": {},
   "outputs": [],
   "source": [
    "names = ('human', 'mouse', 'rat', 'chicken', 'pig', 'chimp', 'monkey')"
   ]
  },
  {
   "cell_type": "code",
   "execution_count": null,
   "id": "2e986baa-dcb3-447f-b3f7-bf9d787b0838",
   "metadata": {},
   "outputs": [],
   "source": [
    "prot_seqs_dict = {name: sequence for name, sequence in zip(names, prot_seqs)}"
   ]
  },
  {
   "cell_type": "code",
   "execution_count": null,
   "id": "dc059268-4ae1-4f0a-8234-a62463fdfff9",
   "metadata": {},
   "outputs": [],
   "source": [
    "prot_seqs_dict['pig']"
   ]
  },
  {
   "cell_type": "markdown",
   "id": "85868de7-1de9-467a-b457-d348d6e6b5d2",
   "metadata": {},
   "source": [
    "### Distance matrix"
   ]
  },
  {
   "cell_type": "markdown",
   "id": "ae5c9f1f-63f9-43ff-98db-70ce70e4d968",
   "metadata": {},
   "source": [
    "Now with all of our sequences translated we can build a [**distance matrix**](https://en.wikipedia.org/wiki/Distance_matrix) among them. scikit-bio's [`DistanceMatrix`](https://scikit.bio/docs/latest/generated/skbio.stats.distance.DistanceMatrix.html) class provides a convenient interface for working with distance matrices. Among its various functionality, we will use the [`from_iterable`](https://scikit.bio/docs/latest/generated/skbio.stats.distance.DistanceMatrix.from_iterable.html) method to automatically create a distance matrix for all pairs of items in a Python iterable, in this case the list of sequences."
   ]
  },
  {
   "cell_type": "code",
   "execution_count": null,
   "id": "424a7295-9e87-44ae-b55f-be0458b289f0",
   "metadata": {},
   "outputs": [],
   "source": [
    "from skbio import DistanceMatrix"
   ]
  },
  {
   "cell_type": "markdown",
   "id": "c17d8c66-a664-406b-b1f3-b75b4f6a45fb",
   "metadata": {},
   "source": [
    "We will define a function that calculates the distance between a pair of items. Here, we will perform pairwise sequence alignment, then calculate the [Hamming distance](https://en.wikipedia.org/wiki/Hamming_distance) between the aligned sequences."
   ]
  },
  {
   "cell_type": "code",
   "execution_count": null,
   "id": "041a3589-1456-4e3d-923b-3c115659ecfa",
   "metadata": {},
   "outputs": [],
   "source": [
    "from skbio.sequence.distance import hamming"
   ]
  },
  {
   "cell_type": "code",
   "execution_count": null,
   "id": "73dd6207-c720-4581-8dae-97f63d2f699e",
   "metadata": {},
   "outputs": [],
   "source": [
    "def align_dist(seq1, seq2):\n",
    "    aln = local_pairwise_align_ssw(seq1, seq2, substitution_matrix=sm_dict)[0]\n",
    "    return hamming(aln[0], aln[1])"
   ]
  },
  {
   "cell_type": "markdown",
   "id": "5fda1198-25ff-4a00-8855-ed3bb4e8e8fd",
   "metadata": {},
   "source": [
    "Build a distance using just one line of code:"
   ]
  },
  {
   "cell_type": "code",
   "execution_count": null,
   "id": "ef345111-bc27-4db4-bd64-573408ac0303",
   "metadata": {},
   "outputs": [],
   "source": [
    "dm = DistanceMatrix.from_iterable(prot_seqs, align_dist, key='id', validate=False)"
   ]
  },
  {
   "cell_type": "markdown",
   "id": "a50abe80-1d65-448a-bbf5-07d33cb96dc5",
   "metadata": {},
   "source": [
    "By typing `dm` you will see a heatmap representing the distance matrix."
   ]
  },
  {
   "cell_type": "code",
   "execution_count": null,
   "id": "26034b1a-991b-4c54-a8f9-8b8cdc8cd094",
   "metadata": {},
   "outputs": [],
   "source": [
    "dm"
   ]
  },
  {
   "cell_type": "markdown",
   "id": "a9f53e62-4d6a-443e-ad91-d41b5e433abe",
   "metadata": {},
   "source": [
    "The underlying data of the distance matrix is a 2D array."
   ]
  },
  {
   "cell_type": "code",
   "execution_count": null,
   "id": "feb075f6-28d3-4e00-b7eb-05ad8c030c68",
   "metadata": {},
   "outputs": [],
   "source": [
    "dm.data"
   ]
  },
  {
   "cell_type": "markdown",
   "id": "0aba170c-ac97-4501-82dd-ac0bcfcd6339",
   "metadata": {},
   "source": [
    "Pairwise distances can be accessed using their IDs."
   ]
  },
  {
   "cell_type": "code",
   "execution_count": null,
   "id": "735d5bcd-1e22-4155-89ca-f372d002908e",
   "metadata": {},
   "outputs": [],
   "source": [
    "dm['human', 'mouse']"
   ]
  },
  {
   "cell_type": "markdown",
   "id": "e7657862-b9b7-4b0f-b6f1-44addb17c7df",
   "metadata": {},
   "source": [
    "### Guide tree"
   ]
  },
  {
   "cell_type": "markdown",
   "id": "de8a979a-a8c7-48b8-8f9d-a347958827c3",
   "metadata": {},
   "source": [
    "Once we've created our distance matrix, we can generate a tree based on this matrix using any [distance-based methods](https://en.wikipedia.org/wiki/Computational_phylogenetics#Distance-matrix_methods). This tree will serve as the _guide tree_ for the progressive alignment algorithm."
   ]
  },
  {
   "cell_type": "markdown",
   "id": "5f7b3910-9f5b-450d-b13c-b70e4df0407e",
   "metadata": {},
   "source": [
    "We will use SciPy's [`average`](https://docs.scipy.org/doc/scipy/reference/generated/scipy.cluster.hierarchy.average.html) function, which implements the [**UPGMA**](https://en.wikipedia.org/wiki/UPGMA) method (a hierarchical clustering method that is also widely used in phylogenetics). The return value is a _linkage matrix_."
   ]
  },
  {
   "cell_type": "code",
   "execution_count": null,
   "id": "0bc21824-85af-4f76-a09c-079e36681334",
   "metadata": {},
   "outputs": [],
   "source": [
    "from scipy.cluster.hierarchy import average"
   ]
  },
  {
   "cell_type": "code",
   "execution_count": null,
   "id": "5a349c95-29e8-4e70-bec6-9b36d6c357a0",
   "metadata": {},
   "outputs": [],
   "source": [
    "guide_lm = average(dm.condensed_form())"
   ]
  },
  {
   "cell_type": "markdown",
   "id": "8b1bfd9b-4d53-4fe1-9684-737c2909153b",
   "metadata": {},
   "source": [
    "scikit-bio's [`TreeNode`](https://scikit.bio/docs/latest/generated/skbio.tree.TreeNode.html) class is a versatible interface for working with tree structures, with various enhancements for _phylogenetic trees_. It can convert a linkage matrix into a tree."
   ]
  },
  {
   "cell_type": "code",
   "execution_count": null,
   "id": "29212b54-50cc-4c56-b960-fea16d98c2d9",
   "metadata": {},
   "outputs": [],
   "source": [
    "from skbio import TreeNode"
   ]
  },
  {
   "cell_type": "code",
   "execution_count": null,
   "id": "551122ed-dd4a-4695-bd90-0d328a7eef9d",
   "metadata": {},
   "outputs": [],
   "source": [
    "guide_tree = TreeNode.from_linkage_matrix(guide_lm, dm.ids)"
   ]
  },
  {
   "cell_type": "markdown",
   "id": "40d604ff-cbb7-4169-8920-6ecf1b69c419",
   "metadata": {},
   "source": [
    "Print an ASCII art of the tree. Does it make sense?"
   ]
  },
  {
   "cell_type": "code",
   "execution_count": null,
   "id": "eea2a323-b578-4510-aa90-03ae1095819f",
   "metadata": {},
   "outputs": [],
   "source": [
    "print(guide_tree.ascii_art())"
   ]
  },
  {
   "cell_type": "markdown",
   "id": "b156a744-e422-4461-950c-cdee69e69923",
   "metadata": {},
   "source": [
    "### Progressive alignment"
   ]
  },
  {
   "cell_type": "markdown",
   "id": "f217153a-a811-4e37-9adf-793b69035349",
   "metadata": {},
   "source": [
    "Here we define our progressive alignment function. In this algorithm, proximal sequences and groups of sequences are sequentially merged via pairwise alignment, following the order defined by the guide tree. The slower but more versatible `global_pairwise_align_protein` function will be used."
   ]
  },
  {
   "cell_type": "code",
   "execution_count": null,
   "id": "ab7c00d6-c4ac-444f-b48e-25240344a618",
   "metadata": {},
   "outputs": [],
   "source": [
    "from skbio.alignment import global_pairwise_align_protein"
   ]
  },
  {
   "cell_type": "code",
   "execution_count": null,
   "id": "5ae2d110-1449-4669-9a6b-6584113b5cd1",
   "metadata": {},
   "outputs": [],
   "source": [
    "def progressive_msa(query_seqs, guide_tree):\n",
    "    c1, c2 = guide_tree.children\n",
    "\n",
    "    if c1.is_tip():\n",
    "        c1_aln = query_seqs[c1.name]\n",
    "    else:\n",
    "        c1_aln = progressive_msa(query_seqs, c1)\n",
    "\n",
    "    if c2.is_tip():\n",
    "        c2_aln = query_seqs[c2.name]\n",
    "    else:\n",
    "        c2_aln = progressive_msa(query_seqs, c2)\n",
    "\n",
    "    return global_pairwise_align_protein(\n",
    "        c1_aln, c2_aln, substitution_matrix=sm_dict)[0]"
   ]
  },
  {
   "cell_type": "markdown",
   "id": "6a1cadf4-62d4-4ed2-8c61-8bccedfda69a",
   "metadata": {},
   "source": [
    "Here we perform progressive alignment. By default, the alignment programs in scikit-bio will return `TabularMSA` objects. As mentioned previously, these are intuitive data structures and have several built-in methods which are useful."
   ]
  },
  {
   "cell_type": "code",
   "execution_count": null,
   "id": "4f5e9622-4dd5-4bd7-b03e-51af29752277",
   "metadata": {},
   "outputs": [],
   "source": [
    "msa = progressive_msa(prot_seqs_dict, guide_tree)"
   ]
  },
  {
   "cell_type": "code",
   "execution_count": null,
   "id": "f0093839-2f18-49a7-9691-eab89484ef7c",
   "metadata": {},
   "outputs": [],
   "source": [
    "msa"
   ]
  },
  {
   "cell_type": "markdown",
   "id": "a37666e8-b1f7-4b7b-8c7f-21b94cf1502b",
   "metadata": {},
   "source": [
    "We can also convert the `TabularMSA` object into an `AlignPath` object like we did earlier. `AlignPath` objects are exactly like `PairAlignPath` objects except that they don't have a few methods which are specific to pairwise alignments (e.g., CIGAR). The underlying data structure is the same, and can be quite useful."
   ]
  },
  {
   "cell_type": "code",
   "execution_count": null,
   "id": "b502b4b4-03c8-40a4-8a7e-1a4940ab1ce0",
   "metadata": {},
   "outputs": [],
   "source": [
    "msa_path = AlignPath.from_tabular(msa)"
   ]
  },
  {
   "cell_type": "code",
   "execution_count": null,
   "id": "905ad148-bf18-45a7-80b8-b894b82ed7a9",
   "metadata": {},
   "outputs": [],
   "source": [
    "msa_path.lengths"
   ]
  },
  {
   "cell_type": "code",
   "execution_count": null,
   "id": "30912d9d-5809-49d1-80c9-d335232ccb33",
   "metadata": {},
   "outputs": [],
   "source": [
    "msa_path.states"
   ]
  },
  {
   "cell_type": "markdown",
   "id": "92d95e4b-d6e3-499d-b030-f9cfb6f1ec8f",
   "metadata": {},
   "source": [
    "## Alignment exploration"
   ]
  },
  {
   "cell_type": "markdown",
   "id": "55a43ccb-a978-4978-954a-b36cad04f1b0",
   "metadata": {},
   "source": [
    "We can next get some information about this alignment. For example, we can easily see that there are 7 sequences in this alignment, and that it's 276 characters long. By definition, there is no variance in sequence length in a multiple sequence alignment. For this reason, it's common to think of an alignment as a matrix or table, where rows represent sequences and columns represent positions in the sequences."
   ]
  },
  {
   "cell_type": "code",
   "execution_count": null,
   "id": "5f029209-a603-4042-9764-d365011998b5",
   "metadata": {},
   "outputs": [],
   "source": [
    "msa.shape"
   ]
  },
  {
   "cell_type": "code",
   "execution_count": null,
   "id": "dc271db9-7dca-41cc-8b34-f8d68e80263c",
   "metadata": {},
   "outputs": [],
   "source": [
    "msa.index"
   ]
  },
  {
   "cell_type": "markdown",
   "id": "62f0136a-5b94-4e6c-8f51-bd4b7b633c85",
   "metadata": {},
   "source": [
    "Here we can see what the consensus sequence among the alignment is by calling the `consensus` method."
   ]
  },
  {
   "cell_type": "code",
   "execution_count": null,
   "id": "93d38762-c717-40f7-be74-26ded5260288",
   "metadata": {},
   "outputs": [],
   "source": [
    "msa.consensus()"
   ]
  },
  {
   "cell_type": "markdown",
   "id": "3868558d-c73f-4b95-a343-b70442b22d16",
   "metadata": {},
   "source": [
    "We can also explore some more interesting features of this alignment. For example, we can compute [**conservation**](https://en.wikipedia.org/wiki/Conserved_sequence) for each position in the alignment using the [`conservation`](https://scikit.bio/docs/latest/generated/skbio.alignment.TabularMSA.conservation.html) method. It calculates positional conservation using the inverse Shannon uncertainty metric."
   ]
  },
  {
   "cell_type": "code",
   "execution_count": null,
   "id": "89e7e920-9905-4e30-aa40-0d415a7bf346",
   "metadata": {},
   "outputs": [],
   "source": [
    "conserv = msa.conservation(gap_mode='include')"
   ]
  },
  {
   "cell_type": "markdown",
   "id": "fa152649-944c-4367-a23e-bc799e826f85",
   "metadata": {},
   "source": [
    "We get an array of positional conservation values (here we'll just print the first ten). A low conservation value means that there is a lot of variation in the sequences at the corresponding position in the alignment, while a high conservation value means that the corresponding position in the alignment is highly conserved. A conservation of 1.0 means that a position is perfectly conserved. A conservation of 0.0 means that every character in the alphabet is present in exactly equal frequency at that position in the alignment (this is uncommon in practice)."
   ]
  },
  {
   "cell_type": "code",
   "execution_count": null,
   "id": "4f63f745-bd20-4ac3-8221-344fe18fccdc",
   "metadata": {},
   "outputs": [],
   "source": [
    "conserv[100:110]"
   ]
  },
  {
   "cell_type": "markdown",
   "id": "b8a30766-9638-43c8-a422-49d0a65bff9a",
   "metadata": {},
   "source": [
    "In our alignment, there are 28 positions that are perfectly conserved across all sequences."
   ]
  },
  {
   "cell_type": "code",
   "execution_count": null,
   "id": "58762f2f-b215-4fa7-8a41-8e6c7446736a",
   "metadata": {},
   "outputs": [],
   "source": [
    "(conserv == 1.0).sum()"
   ]
  },
  {
   "cell_type": "markdown",
   "id": "a8103d50-f115-4f2e-b455-f738417ad660",
   "metadata": {},
   "source": [
    "Let's figure out what amino acids are at these perfectly conserved positions:"
   ]
  },
  {
   "cell_type": "code",
   "execution_count": null,
   "id": "ee7ef494-4aa4-4833-bf37-2e7e0c9dbed0",
   "metadata": {},
   "outputs": [],
   "source": [
    "res = []\n",
    "for i, value in enumerate(conserv):\n",
    "    if value == 1.0:\n",
    "        res.append((i, str(msa[0][i])))"
   ]
  },
  {
   "cell_type": "code",
   "execution_count": null,
   "id": "5e8805ab-c1dc-4821-8416-1276ee751a20",
   "metadata": {},
   "outputs": [],
   "source": [
    "print(res)"
   ]
  },
  {
   "cell_type": "markdown",
   "id": "ec681a15-49da-4c38-9eea-1e2c688786e0",
   "metadata": {},
   "source": [
    "Finally we can visualize the conservation along the full length of the alignment to get an idea of where the more and less conserved positions are found. In general, positions that are highly conserved are thought to have specific structural or functional roles in the protein, while positions that are less conserved might have less specific roles (e.g., providing a filler between two functional domains in the linear protein backbone)."
   ]
  },
  {
   "cell_type": "code",
   "execution_count": null,
   "id": "c4d089a4-2b14-493b-946e-2d2a4913bb7b",
   "metadata": {},
   "outputs": [],
   "source": [
    "import matplotlib.pyplot as plt"
   ]
  },
  {
   "cell_type": "code",
   "execution_count": null,
   "id": "6dc8c250-ebed-486f-bfd7-042e9cf9e0a7",
   "metadata": {},
   "outputs": [],
   "source": [
    "plt.figure(figsize=(12, 3))\n",
    "plt.plot(range(len(conserv)), conserv)\n",
    "plt.xlabel('Position')\n",
    "plt.ylabel('Conservation')\n",
    "plt.title('Positional Conservation Plot');"
   ]
  },
  {
   "cell_type": "markdown",
   "id": "7423b70f-6ca9-4706-b940-d108f89e2f12",
   "metadata": {},
   "source": [
    "## Phylogenetics"
   ]
  },
  {
   "cell_type": "markdown",
   "id": "945599f4-c803-41bc-b972-3c65a394090a",
   "metadata": {},
   "source": [
    "With a multiple sequence alignment, one can reconstruct a [**phylogenetic tree**](https://en.wikipedia.org/wiki/Phylogenetic_tree) to model the evolutionary relationships among the organisms. A variety of computational methods exist for this task. Here, we will demonstrate one of the simplest yet scalable methods."
   ]
  },
  {
   "cell_type": "markdown",
   "id": "cb3ebb8d-a7e4-4245-a711-ee4ec1b8a3f3",
   "metadata": {},
   "source": [
    "First, let's also build a distance matrix based on the Hamming distances among alignment sequences. The difference of this distance matrix from the previous one is that it is based on the multiple sequence alignment , rather than separate pairwise alignments. Therefore it is presumably more accurate."
   ]
  },
  {
   "cell_type": "code",
   "execution_count": null,
   "id": "5d0cc439-2cde-48e5-9b20-df6eace89e92",
   "metadata": {},
   "outputs": [],
   "source": [
    "dm_msa = DistanceMatrix.from_iterable(msa, hamming, key='id', validate=False)\n",
    "dm_msa"
   ]
  },
  {
   "cell_type": "markdown",
   "id": "aeb2a1d3-8a4f-41c0-8dcb-9e859322d1e1",
   "metadata": {},
   "source": [
    "Then we will call [**neighbor joining**](https://en.wikipedia.org/wiki/Neighbor_joining), a classical distance-based phylogenetic reconstruction method. It is implemented in scikit-bio's [`nj`](https://scikit.bio/docs/latest/generated/skbio.tree.nj.html) function."
   ]
  },
  {
   "cell_type": "code",
   "execution_count": null,
   "id": "286324a2-2d67-4fd5-ac22-4259e31f2f34",
   "metadata": {},
   "outputs": [],
   "source": [
    "from skbio.tree import nj"
   ]
  },
  {
   "cell_type": "code",
   "execution_count": null,
   "id": "a344a2c6-6346-4a7b-bd8c-abed708c7597",
   "metadata": {},
   "outputs": [],
   "source": [
    "tree = nj(dm)"
   ]
  },
  {
   "cell_type": "markdown",
   "id": "cd36f920-f4b5-40e6-9070-182bba44ffe3",
   "metadata": {},
   "source": [
    "Unlike UPGMA, the output of neighbor-joining is an unrooted tree. We will perform mid-point rooting on it."
   ]
  },
  {
   "cell_type": "code",
   "execution_count": null,
   "id": "47846882-6881-40ef-9ae1-e0a1f1c1c908",
   "metadata": {},
   "outputs": [],
   "source": [
    "tree = tree.root_at_midpoint()"
   ]
  },
  {
   "cell_type": "markdown",
   "id": "40b02f36-a53b-48fa-ab97-a03a74879d66",
   "metadata": {},
   "source": [
    "Explore the tree. One can assess whether / to what extent the tree topology aligns with our knowledge of vertebrate evolution, and make relevant interpretations."
   ]
  },
  {
   "cell_type": "code",
   "execution_count": null,
   "id": "db50ffd7-a4e4-4556-a2b6-e20525221c87",
   "metadata": {},
   "outputs": [],
   "source": [
    "print(tree.ascii_art())"
   ]
  },
  {
   "cell_type": "markdown",
   "id": "5c9af087-9891-4519-852f-fa4aca8ee2b2",
   "metadata": {},
   "source": [
    "## Summary"
   ]
  },
  {
   "cell_type": "markdown",
   "id": "e4bba695-004c-429b-9170-fd902c35eca3",
   "metadata": {},
   "source": [
    "This first section of the scikit-bio tutorial introduces the installation of scikit-bio, the setup of the practice environment, and demonstrates the basic usage of scikit-bio via a series of bioinformatics analyses: sequence, alignment, and phylogeny. The content serves as the basis for more sophisticated omic data analyses, as will be demonstrated in subsequent sections."
   ]
  }
 ],
 "metadata": {
  "kernelspec": {
   "display_name": "Python 3 (ipykernel)",
   "language": "python",
   "name": "python3"
  },
  "language_info": {
   "codemirror_mode": {
    "name": "ipython",
    "version": 3
   },
   "file_extension": ".py",
   "mimetype": "text/x-python",
   "name": "python",
   "nbconvert_exporter": "python",
   "pygments_lexer": "ipython3",
   "version": "3.12.9"
  }
 },
 "nbformat": 4,
 "nbformat_minor": 5
}
