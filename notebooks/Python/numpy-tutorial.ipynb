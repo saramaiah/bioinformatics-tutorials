{
 "cells": [
  {
   "cell_type": "markdown",
   "id": "c8401863",
   "metadata": {},
   "source": [
    "# Linear algebra on n-dimensional arrays\n",
    "Published by the NumPy community. © Copyright 2020-2025, the NumPy community. Available at <https://numpy.org/numpy-tutorials/content/tutorial-svd.html>.\n",
    "\n",
    "Edited for tutorial set by Sara Ramaiah."
   ]
  },
  {
   "cell_type": "markdown",
   "id": "b20dcc6c",
   "metadata": {},
   "source": [
    "## Prerequisites\n",
    "\n",
    "Before reading this tutorial, you should know a bit of Python. If you would like to refresh your memory, take a look at the [Python tutorial](https://docs.python.org/3/tutorial/).\n",
    "\n",
    "If you want to be able to run the examples in this tutorial, you should also have [matplotlib](https://matplotlib.org/) and [SciPy](https://scipy.org) installed on your computer.\n",
    "\n",
    "## Learner profile\n",
    "\n",
    "This tutorial is for people who have a basic understanding of linear algebra and arrays in NumPy and want to understand how n-dimensional ($n>=2$) arrays are represented and can be manipulated. In particular, if you don't know how to apply common functions to n-dimensional arrays (without using for-loops), or if you want to understand axis and shape properties for n-dimensional arrays, this tutorial might be of help.\n",
    "\n",
    "## Learning Objectives\n",
    "\n",
    "After this tutorial, you should be able to:\n",
    "\n",
    "- Understand the difference between one-, two- and n-dimensional arrays in NumPy;\n",
    "- Understand how to apply some linear algebra operations to n-dimensional arrays without using for-loops;\n",
    "- Understand axis and shape properties for n-dimensional arrays.\n",
    "\n",
    "## Content\n",
    "\n",
    "In this tutorial, we will use a [matrix decomposition](https://en.wikipedia.org/wiki/Matrix_decomposition) from linear algebra, the Singular Value Decomposition, to generate a compressed approximation of an image. We'll use the `face` image from the [scipy.datasets](https://docs.scipy.org/doc/scipy/reference/datasets.html) module:"
   ]
  },
  {
   "cell_type": "code",
   "execution_count": null,
   "id": "76f8e4e0",
   "metadata": {},
   "outputs": [],
   "source": [
    "# TODO: Rm try-except with scipy 1.10 is the minimum supported version\n",
    "try:\n",
    "    from scipy.datasets import face\n",
    "except ImportError:  # Data was in scipy.misc prior to scipy v1.10\n",
    "    from scipy.misc import face\n",
    "\n",
    "img = face()"
   ]
  },
  {
   "cell_type": "markdown",
   "id": "62739c7b",
   "metadata": {},
   "source": [
    "**Note**: If you prefer, you can use your own image as you work through this tutorial. In order to transform your image into a NumPy array that can be manipulated, you can use the `imread` function from the [matplotlib.pyplot](https://matplotlib.org/api/_as_gen/matplotlib.pyplot.html#module-matplotlib.pyplot) submodule. Alternatively, you can use the [imageio.imread](https://imageio.readthedocs.io/en/stable/_autosummary/imageio.v3.imread.html) function from the `imageio` library. Be aware that if you use your own image, you'll likely need to adapt the steps below. For more information on how images are treated when converted to NumPy arrays, see [A crash course on NumPy for images](https://scikit-image.org/docs/stable/user_guide/numpy_images.html) from the `scikit-image` documentation."
   ]
  },
  {
   "cell_type": "markdown",
   "id": "a93954e7",
   "metadata": {},
   "source": [
    "Now, `img` is a NumPy array, as we can see when using the `type` function:"
   ]
  },
  {
   "cell_type": "code",
   "execution_count": null,
   "id": "fac92b9b",
   "metadata": {},
   "outputs": [],
   "source": [
    "type(img)"
   ]
  },
  {
   "cell_type": "markdown",
   "id": "8499ccd8",
   "metadata": {},
   "source": [
    "We can see the image using the [matplotlib.pyplot.imshow](https://matplotlib.org/api/_as_gen/matplotlib.pyplot.imshow.html#matplotlib.pyplot.imshow) function & the special iPython command, `%matplotlib inline` to display plots inline:"
   ]
  },
  {
   "cell_type": "code",
   "execution_count": null,
   "id": "333cf056",
   "metadata": {},
   "outputs": [],
   "source": [
    "import matplotlib.pyplot as plt\n",
    "\n",
    "%matplotlib inline"
   ]
  },
  {
   "cell_type": "code",
   "execution_count": null,
   "id": "f359bbe3",
   "metadata": {},
   "outputs": [],
   "source": [
    "plt.imshow(img)\n",
    "plt.show()"
   ]
  },
  {
   "cell_type": "markdown",
   "id": "094be2d4",
   "metadata": {},
   "source": [
    "### Shape, axis and array properties\n",
    "\n",
    "Note that, in linear algebra, the dimension of a vector refers to the number of entries in an array. In NumPy, it instead defines the number of axes. For example, a 1D array is a vector such as `[1, 2, 3]`, a 2D array is a matrix, and so forth.\n",
    "\n",
    "First, let's check for the shape of the data in our array. Since this image is two-dimensional (the pixels in the image form a rectangle), we might expect a two-dimensional array to represent it (a matrix). However, using the `shape` property of this NumPy array gives us a different result:"
   ]
  },
  {
   "cell_type": "code",
   "execution_count": null,
   "id": "779456cc",
   "metadata": {},
   "outputs": [],
   "source": [
    "img.shape"
   ]
  },
  {
   "cell_type": "markdown",
   "id": "32aef47d",
   "metadata": {},
   "source": [
    "The output is a [tuple](https://docs.python.org/dev/tutorial/datastructures.html#tut-tuples) with three elements, which means that this is a three-dimensional array. In fact, since this is a color image, and we have used the `imread` function to read it, the data is organized in three 2D arrays, representing color channels (in this case, red, green and blue - RGB). You can see this by looking at the shape above: it indicates that we have an array of 3 matrices, each having shape 768x1024.\n",
    "\n",
    "Furthermore, using the `ndim` property of this array, we can see that"
   ]
  },
  {
   "cell_type": "code",
   "execution_count": null,
   "id": "e00d2b1b",
   "metadata": {},
   "outputs": [],
   "source": [
    "img.ndim"
   ]
  },
  {
   "cell_type": "markdown",
   "id": "7a0c850d",
   "metadata": {},
   "source": [
    "NumPy refers to each dimension as an *axis*. Because of how `imread` works, the *first index in the 3rd axis* is the red pixel data for our image. We can access this by using the syntax"
   ]
  },
  {
   "cell_type": "code",
   "execution_count": null,
   "id": "99f7a242",
   "metadata": {},
   "outputs": [],
   "source": [
    "img[:, :, 0]"
   ]
  },
  {
   "cell_type": "markdown",
   "id": "544841e6",
   "metadata": {},
   "source": [
    "From the output above, we can see that every value in `img[:, :, 0]` is an integer value between 0 and 255, representing the level of red in each corresponding image pixel (keep in mind that this might be different if you\n",
    "use your own image instead of [scipy.datasets.face](https://docs.scipy.org/doc/scipy/reference/generated/scipy.datasets.face.html)).\n",
    "\n",
    "As expected, this is a 768x1024 matrix:"
   ]
  },
  {
   "cell_type": "code",
   "execution_count": null,
   "id": "21071ebd",
   "metadata": {},
   "outputs": [],
   "source": [
    "img[:, :, 0].shape"
   ]
  },
  {
   "cell_type": "markdown",
   "id": "29f738ff",
   "metadata": {},
   "source": [
    "Since we are going to perform linear algebra operations on this data, it might be more interesting to have real numbers between 0 and 1 in each entry of the matrices to represent the RGB values. We can do that by setting"
   ]
  },
  {
   "cell_type": "code",
   "execution_count": null,
   "id": "257f8bc7",
   "metadata": {},
   "outputs": [],
   "source": [
    "img_array = img / 255"
   ]
  },
  {
   "cell_type": "markdown",
   "id": "0b2c13da",
   "metadata": {},
   "source": [
    "This operation, dividing an array by a scalar, works because of NumPy's [broadcasting rules](https://numpy.org/devdocs/user/theory.broadcasting.html#array-broadcasting-in-numpy). (Note that in real-world applications, it would be better to use, for example, the [img_as_float](https://scikit-image.org/docs/stable/api/skimage.html#skimage.img_as_float) utility function from `scikit-image`).\n",
    "\n",
    "You can check that the above works by doing some tests; for example, inquiring\n",
    "about maximum and minimum values for this array:"
   ]
  },
  {
   "cell_type": "code",
   "execution_count": null,
   "id": "19eedebb",
   "metadata": {},
   "outputs": [],
   "source": [
    "img_array.max(), img_array.min()"
   ]
  },
  {
   "cell_type": "markdown",
   "id": "6758f7e3",
   "metadata": {},
   "source": [
    "or checking the type of data in the array:"
   ]
  },
  {
   "cell_type": "code",
   "execution_count": null,
   "id": "bb2f4169",
   "metadata": {},
   "outputs": [],
   "source": [
    "img_array.dtype"
   ]
  },
  {
   "cell_type": "markdown",
   "id": "50facb48",
   "metadata": {},
   "source": [
    "Note that we can assign each color channel to a separate matrix using the slice syntax:"
   ]
  },
  {
   "cell_type": "code",
   "execution_count": null,
   "id": "087ef1ff",
   "metadata": {},
   "outputs": [],
   "source": [
    "red_array = img_array[:, :, 0]\n",
    "green_array = img_array[:, :, 1]\n",
    "blue_array = img_array[:, :, 2]"
   ]
  },
  {
   "cell_type": "markdown",
   "id": "91f28693",
   "metadata": {},
   "source": [
    "### Operations on an axis\n",
    "\n",
    "It is possible to use methods from linear algebra to approximate an existing set of data. Here, we will use the [SVD (Singular Value Decomposition)](https://en.wikipedia.org/wiki/Singular_value_decomposition) to try to rebuild an image that uses less singular value information than the original one, while still retaining some of its features."
   ]
  },
  {
   "cell_type": "markdown",
   "id": "f1a20cf5",
   "metadata": {},
   "source": [
    "**Note**: We will use NumPy's linear algebra module, [numpy.linalg](https://numpy.org/devdocs/reference/routines.linalg.html#module-numpy.linalg), to perform the operations in this tutorial. Most of the linear algebra functions in this module can also be found in [scipy.linalg](https://docs.scipy.org/doc/scipy/reference/linalg.html#module-scipy.linalg), and users are encouraged to use the [scipy](https://docs.scipy.org/doc/scipy/reference/index.html#module-scipy) module for real-world applications. However, some functions in the [scipy.linalg](https://docs.scipy.org/doc/scipy/reference/linalg.html#module-scipy.linalg) module, such as the SVD function, only support 2D arrays. For more information on this, check the [scipy.linalg page](https://docs.scipy.org/doc/scipy/tutorial/linalg.html)."
   ]
  },
  {
   "cell_type": "markdown",
   "id": "f221de90",
   "metadata": {},
   "source": [
    "To proceed, import the linear algebra submodule from NumPy:"
   ]
  },
  {
   "cell_type": "code",
   "execution_count": null,
   "id": "8749efc7",
   "metadata": {},
   "outputs": [],
   "source": [
    "from numpy import linalg"
   ]
  },
  {
   "cell_type": "markdown",
   "id": "6c3500d0",
   "metadata": {},
   "source": [
    "In order to extract information from a given matrix, we can use the SVD to obtain 3 arrays which can be multiplied to obtain the original matrix. From the theory of linear algebra, given a matrix $A$, the following product can be computed:\n",
    "\n",
    "$$U \\Sigma V^T = A$$\n",
    "\n",
    "where $U$ and $V^T$ are square and $\\Sigma$ is the same size as $A$. $\\Sigma$ is a diagonal matrix and contains the [singular values](https://en.wikipedia.org/wiki/Singular_value) of $A$, organized from largest to smallest. These values are always non-negative and can be used as an indicator of the \"importance\" of some features represented by the matrix $A$.\n",
    "\n",
    "Let's see how this works in practice with just one matrix first. Note that according to [colorimetry](https://en.wikipedia.org/wiki/Grayscale#Colorimetric_(perceptual_luminance-preserving)_conversion_to_grayscale),\n",
    "it is possible to obtain a fairly reasonable grayscale version of our color image if we apply the formula\n",
    "\n",
    "$$Y = 0.2126 R + 0.7152 G + 0.0722 B$$\n",
    "\n",
    "where $Y$ is the array representing the grayscale image, and $R$, $G$ and $B$ are the red, green and blue channel arrays we had originally. Notice we can use the `@` operator (the matrix multiplication operator for NumPy arrays, see [numpy.matmul](https://numpy.org/devdocs/reference/generated/numpy.matmul.html#numpy.matmul)) for this:"
   ]
  },
  {
   "cell_type": "code",
   "execution_count": null,
   "id": "f82638c7",
   "metadata": {},
   "outputs": [],
   "source": [
    "img_gray = img_array @ [0.2126, 0.7152, 0.0722]"
   ]
  },
  {
   "cell_type": "markdown",
   "id": "e3f9d676",
   "metadata": {},
   "source": [
    "Now, `img_gray` has shape"
   ]
  },
  {
   "cell_type": "code",
   "execution_count": null,
   "id": "2be1f8f7",
   "metadata": {},
   "outputs": [],
   "source": [
    "img_gray.shape"
   ]
  },
  {
   "cell_type": "markdown",
   "id": "00543ee9",
   "metadata": {},
   "source": [
    "To see if this makes sense in our image, we should use a colormap from `matplotlib` corresponding to the color we wish to see in out image (otherwise, `matplotlib` will default to a colormap that does not correspond to the real data).\n",
    "\n",
    "In our case, we are approximating the grayscale portion of the image, so we will use the colormap `gray`:"
   ]
  },
  {
   "cell_type": "code",
   "execution_count": null,
   "id": "9f9361af",
   "metadata": {},
   "outputs": [],
   "source": [
    "plt.imshow(img_gray, cmap=\"gray\")\n",
    "plt.show()"
   ]
  },
  {
   "cell_type": "markdown",
   "id": "3dc9163f",
   "metadata": {},
   "source": [
    "Now, applying the [linalg.svd](https://numpy.org/devdocs/reference/generated/numpy.linalg.svd.html#numpy.linalg.svd) function to this matrix, we obtain the following decomposition:"
   ]
  },
  {
   "cell_type": "code",
   "execution_count": null,
   "id": "52be02ee",
   "metadata": {},
   "outputs": [],
   "source": [
    "U, s, Vt = linalg.svd(img_gray)"
   ]
  },
  {
   "cell_type": "markdown",
   "id": "51d9a2d2",
   "metadata": {},
   "source": [
    "**Note** If you are using your own image, this command might take a while to run, depending on the size of your image and your hardware. Don't worry, this is normal! The SVD can be a pretty intensive computation."
   ]
  },
  {
   "cell_type": "markdown",
   "id": "94216946",
   "metadata": {},
   "source": [
    "Let's check that this is what we expected:"
   ]
  },
  {
   "cell_type": "code",
   "execution_count": null,
   "id": "1c01eb3b",
   "metadata": {},
   "outputs": [],
   "source": [
    "U.shape, s.shape, Vt.shape"
   ]
  },
  {
   "cell_type": "markdown",
   "id": "29cd9521",
   "metadata": {},
   "source": [
    "Note that `s` has a particular shape: it has only one dimension. This means that some linear algebra functions that expect 2d arrays might not work. For example, from the theory, one might expect `s` and `Vt` to be\n",
    "compatible for multiplication. However, this is not true as `s` does not have a second axis. Executing\n",
    "\n",
    "```python\n",
    "s @ Vt\n",
    "```\n",
    "\n",
    "results in a `ValueError`. This happens because having a one-dimensional array for `s`, in this case, is much more economic in practice than building a diagonal matrix with the same data. To reconstruct the original matrix, we can rebuild the diagonal matrix $\\Sigma$ with the elements of `s` in its diagonal and with the appropriate dimensions for multiplying: in our case, $\\Sigma$ should be 768x1024 since `U` is 768x768 and `Vt` is 1024x1024. In order to add the singular values to the diagonal of `Sigma`, we will use the [fill_diagonal](https://numpy.org/devdocs/reference/generated/numpy.fill_diagonal.html) function from NumPy:"
   ]
  },
  {
   "cell_type": "code",
   "execution_count": null,
   "id": "972cd63c",
   "metadata": {},
   "outputs": [],
   "source": [
    "import numpy as np\n",
    "\n",
    "Sigma = np.zeros((U.shape[1], Vt.shape[0]))\n",
    "np.fill_diagonal(Sigma, s)"
   ]
  },
  {
   "cell_type": "markdown",
   "id": "c2aaf27b",
   "metadata": {},
   "source": [
    "Now, we want to check if the reconstructed `U @ Sigma @ Vt` is close to the original `img_gray` matrix."
   ]
  },
  {
   "cell_type": "markdown",
   "id": "13b61064",
   "metadata": {},
   "source": [
    "## Approximation\n",
    "\n",
    "The [linalg](https://numpy.org/devdocs/reference/routines.linalg.html#module-numpy.linalg) module includes a `norm` function, which computes the norm of a vector or matrix represented in a NumPy array. For example, from the SVD explanation above, we would expect the norm of the difference between `img_gray` and the reconstructed SVD product to be small. As expected, you should see something like"
   ]
  },
  {
   "cell_type": "code",
   "execution_count": null,
   "id": "57437d6c",
   "metadata": {},
   "outputs": [],
   "source": [
    "linalg.norm(img_gray - U @ Sigma @ Vt)"
   ]
  },
  {
   "cell_type": "markdown",
   "id": "7789e3c9",
   "metadata": {},
   "source": [
    "(The actual result of this operation might be different depending on your architecture and linear algebra setup. Regardless, you should see a small number.)\n",
    "\n",
    "We could also have used the [numpy.allclose](https://numpy.org/devdocs/reference/generated/numpy.allclose.html#numpy.allclose) function to make sure the reconstructed product is, in fact, *close* to our original matrix (the difference between the two arrays is small):"
   ]
  },
  {
   "cell_type": "code",
   "execution_count": null,
   "id": "97ded5d8",
   "metadata": {},
   "outputs": [],
   "source": [
    "np.allclose(img_gray, U @ Sigma @ Vt)"
   ]
  },
  {
   "cell_type": "markdown",
   "id": "e6f74ae8",
   "metadata": {},
   "source": [
    "To see if an approximation is reasonable, we can check the values in `s`:"
   ]
  },
  {
   "cell_type": "code",
   "execution_count": null,
   "id": "15a0d994",
   "metadata": {},
   "outputs": [],
   "source": [
    "plt.plot(s)\n",
    "plt.show()"
   ]
  },
  {
   "cell_type": "markdown",
   "id": "50bfe417",
   "metadata": {},
   "source": [
    "In the graph, we can see that although we have 768 singular values in `s`, most of those (after the 150th entry or so) are pretty small. So it might make sense to use only the information related to the first (say, 50) *singular values* to build a more economical approximation to our image.\n",
    "\n",
    "The idea is to consider all but the first `k` singular values in `Sigma` (which are the same as in `s`) as zeros, keeping `U` and `Vt` intact, and computing the product of these matrices as the approximation.\n",
    "\n",
    "For example, if we choose"
   ]
  },
  {
   "cell_type": "code",
   "execution_count": null,
   "id": "d1da50e3",
   "metadata": {},
   "outputs": [],
   "source": [
    "k = 10"
   ]
  },
  {
   "cell_type": "markdown",
   "id": "54551714",
   "metadata": {},
   "source": [
    "we can build the approximation by doing"
   ]
  },
  {
   "cell_type": "code",
   "execution_count": null,
   "id": "5ad18bca",
   "metadata": {},
   "outputs": [],
   "source": [
    "approx = U @ Sigma[:, :k] @ Vt[:k, :]"
   ]
  },
  {
   "cell_type": "markdown",
   "id": "326a9853",
   "metadata": {},
   "source": [
    "Note that we had to use only the first `k` rows of `Vt`, since all other rows would be multiplied by the zeros corresponding to the singular values we eliminated from this approximation."
   ]
  },
  {
   "cell_type": "code",
   "execution_count": null,
   "id": "8c00373f",
   "metadata": {},
   "outputs": [],
   "source": [
    "plt.imshow(approx, cmap=\"gray\")\n",
    "plt.show()"
   ]
  },
  {
   "cell_type": "markdown",
   "id": "612542fd",
   "metadata": {},
   "source": [
    "Now, you can go ahead and repeat this experiment with other values of `k`, and each of your experiments should give you a slightly better (or worse) image depending on the value you choose."
   ]
  },
  {
   "cell_type": "markdown",
   "id": "cd4c68d8",
   "metadata": {},
   "source": [
    "### Applying to all colors\n",
    "\n",
    "Now we want to do the same kind of operation, but to all three colors. Our first instinct might be to repeat the same operation we did above to each color matrix individually. However, NumPy's *broadcasting* takes care of this\n",
    "for us.\n",
    "\n",
    "If our array has more than two dimensions, then the SVD can be applied to all axes at once. However, the linear algebra functions in NumPy expect to see an array of the form `(n, M, N)`, where the first axis `n` represents the number of `MxN` matrices in the stack.\n",
    "\n",
    "In our case,"
   ]
  },
  {
   "cell_type": "code",
   "execution_count": null,
   "id": "c2d3eccd",
   "metadata": {},
   "outputs": [],
   "source": [
    "img_array.shape"
   ]
  },
  {
   "cell_type": "markdown",
   "id": "4036bab7",
   "metadata": {},
   "source": [
    "so we need to permutate the axis on this array to get a shape like `(3, 768, 1024)`. Fortunately, the [numpy.transpose](https://numpy.org/devdocs/reference/generated/numpy.transpose.html#numpy.transpose) function can do that for us:\n",
    "```\n",
    "np.transpose(x, axes=(i, j, k))\n",
    "```\n",
    "indicates that the axis will be reordered such that the final shape of the transposed array will be reordered according to the indices `(i, j, k)`.\n",
    "\n",
    "Let's see how this goes for our array:"
   ]
  },
  {
   "cell_type": "code",
   "execution_count": null,
   "id": "14b814f7",
   "metadata": {},
   "outputs": [],
   "source": [
    "img_array_transposed = np.transpose(img_array, (2, 0, 1))\n",
    "img_array_transposed.shape"
   ]
  },
  {
   "cell_type": "markdown",
   "id": "b70aa379",
   "metadata": {},
   "source": [
    "Now we are ready to apply the SVD:"
   ]
  },
  {
   "cell_type": "code",
   "execution_count": null,
   "id": "4b50fecf",
   "metadata": {},
   "outputs": [],
   "source": [
    "U, s, Vt = linalg.svd(img_array_transposed)"
   ]
  },
  {
   "cell_type": "markdown",
   "id": "76154ced",
   "metadata": {},
   "source": [
    "Finally, to obtain the full approximated image, we need to reassemble these matrices into the approximation. Now, note that"
   ]
  },
  {
   "cell_type": "code",
   "execution_count": null,
   "id": "53c94751",
   "metadata": {},
   "outputs": [],
   "source": [
    "U.shape, s.shape, Vt.shape"
   ]
  },
  {
   "cell_type": "markdown",
   "id": "1ce2df5b",
   "metadata": {},
   "source": [
    "To build the final approximation matrix, we must understand how multiplication across different axes works."
   ]
  },
  {
   "cell_type": "markdown",
   "id": "92b42ad8",
   "metadata": {},
   "source": [
    "### Products with n-dimensional arrays\n",
    "\n",
    "If you have worked before with only one- or two-dimensional arrays in NumPy, you might use [numpy.dot](https://numpy.org/devdocs/reference/generated/numpy.dot.html#numpy.dot) and [numpy.matmul](https://numpy.org/devdocs/reference/generated/numpy.matmul.html#numpy.matmul) (or the `@` operator) interchangeably. However, for n-dimensional arrays, they work in very different ways. For more details, check the documentation on [numpy.matmul](https://numpy.org/devdocs/reference/generated/numpy.matmul.html#numpy.matmul).\n",
    "\n",
    "Now, to build our approximation, we first need to make sure that our singular values are ready for multiplication, so we build our `Sigma` matrix similarly to what we did before. The `Sigma` array must have dimensions `(3, 768, 1024)`. In order to add the singular values to the diagonal of `Sigma`, we will again use the [fill_diagonal](https://numpy.org/devdocs/reference/generated/numpy.fill_diagonal.html) function, using each of the 3 rows in `s` as the diagonal for each of the 3 matrices in `Sigma`:"
   ]
  },
  {
   "cell_type": "code",
   "execution_count": null,
   "id": "5952270b",
   "metadata": {},
   "outputs": [],
   "source": [
    "Sigma = np.zeros((3, 768, 1024))\n",
    "for j in range(3):\n",
    "    np.fill_diagonal(Sigma[j, :, :], s[j, :])"
   ]
  },
  {
   "cell_type": "markdown",
   "id": "c38fb4f6",
   "metadata": {},
   "source": [
    "Now, if we wish to rebuild the full SVD (with no approximation), we can do"
   ]
  },
  {
   "cell_type": "code",
   "execution_count": null,
   "id": "fcf33129",
   "metadata": {},
   "outputs": [],
   "source": [
    "reconstructed = U @ Sigma @ Vt"
   ]
  },
  {
   "cell_type": "markdown",
   "id": "0569229f",
   "metadata": {},
   "source": [
    "Note that"
   ]
  },
  {
   "cell_type": "code",
   "execution_count": null,
   "id": "2e14d9c9",
   "metadata": {},
   "outputs": [],
   "source": [
    "reconstructed.shape"
   ]
  },
  {
   "cell_type": "markdown",
   "id": "bae3078d",
   "metadata": {},
   "source": [
    "The reconstructed image should be indistinguishable from the original one, except for differences due to floating point errors from the reconstruction. Recall that our original image consisted of floating point values in the range `[0., 1.]`. The accumulation of floating point error from the reconstruction can result in values slightly outside this original range:"
   ]
  },
  {
   "cell_type": "code",
   "execution_count": null,
   "id": "25aeee7f",
   "metadata": {},
   "outputs": [],
   "source": [
    "reconstructed.min(), reconstructed.max()"
   ]
  },
  {
   "cell_type": "markdown",
   "id": "2ad1736d",
   "metadata": {},
   "source": [
    "Since `imshow` expects values in the range, we can use `clip` to excise the floating point error:"
   ]
  },
  {
   "cell_type": "code",
   "execution_count": null,
   "id": "c1b22e42",
   "metadata": {},
   "outputs": [],
   "source": [
    "reconstructed = np.clip(reconstructed, 0, 1)\n",
    "plt.imshow(np.transpose(reconstructed, (1, 2, 0)))\n",
    "plt.show()"
   ]
  },
  {
   "cell_type": "markdown",
   "id": "4cf9ec66",
   "metadata": {},
   "source": [
    "In fact, `imshow` peforms this clipping under-the-hood, so if you skip the first line in the previous code cell, you might see a warning message saying `\"Clipping input data to the valid range for imshow with RGB data ([0..1] for floats or [0..255] for integers).\"`\n",
    "\n",
    "Now, to do the approximation, we must choose only the first `k` singular values for each color channel. This can be done using the following syntax:"
   ]
  },
  {
   "cell_type": "code",
   "execution_count": null,
   "id": "ac91b0d5",
   "metadata": {},
   "outputs": [],
   "source": [
    "approx_img = U @ Sigma[..., :k] @ Vt[..., :k, :]"
   ]
  },
  {
   "cell_type": "markdown",
   "id": "c7b403af",
   "metadata": {},
   "source": [
    "You can see that we have selected only the first `k` components of the last axis for `Sigma` (this means that we have used only the first `k` columns of each of the three matrices in the stack), and that we have selected only the first `k` components in the second-to-last axis of `Vt` (this means we have selected only the first `k` rows from every matrix in the stack `Vt` and all columns). If you are unfamiliar with the ellipsis syntax, it is a\n",
    "placeholder for other axes. For more details, see the documentation on [Indexing](https://numpy.org/devdocs/user/basics.indexing.html#basics-indexing).\n",
    "\n",
    "Now,"
   ]
  },
  {
   "cell_type": "code",
   "execution_count": null,
   "id": "983a8dea",
   "metadata": {},
   "outputs": [],
   "source": [
    "approx_img.shape"
   ]
  },
  {
   "cell_type": "markdown",
   "id": "dd13dd29",
   "metadata": {},
   "source": [
    "which is not the right shape for showing the image. Finally, reordering the axes back to our original shape of `(768, 1024, 3)`, we can see our approximation:"
   ]
  },
  {
   "cell_type": "code",
   "execution_count": null,
   "id": "730cafc2",
   "metadata": {},
   "outputs": [],
   "source": [
    "plt.imshow(np.transpose(approx_img, (1, 2, 0)))\n",
    "plt.show()"
   ]
  },
  {
   "cell_type": "markdown",
   "id": "904c328c",
   "metadata": {},
   "source": [
    "Even though the image is not as sharp, using a small number of `k` singular values (compared to the original set of 768 values), we can recover many of the distinguishing features from this image."
   ]
  },
  {
   "cell_type": "markdown",
   "id": "18635357",
   "metadata": {},
   "source": [
    "### Final words\n",
    "\n",
    "Of course, this is not the best method to *approximate* an image. However, there is, in fact, a result in linear algebra that says that the approximation we built above is the best we can get to the original matrix in\n",
    "terms of the norm of the difference. For more information, see *G. H. Golub and C. F. Van Loan, Matrix Computations, Baltimore, MD, Johns Hopkins University Press, 1985*.\n",
    "\n",
    "## Further reading\n",
    "\n",
    "-  [Python tutorial](https://docs.python.org/dev/tutorial/index.html)\n",
    "-  [NumPy Reference](https://numpy.org/devdocs/reference/index.html#reference)\n",
    "-  [SciPy Tutorial](https://docs.scipy.org/doc/scipy/tutorial/index.html)\n",
    "-  [SciPy Lecture Notes](https://scipy-lectures.org)\n",
    "-  [A matlab, R, IDL, NumPy/SciPy dictionary](http://mathesaurus.sf.net/)"
   ]
  }
 ],
 "metadata": {
  "jupytext": {
   "text_representation": {
    "extension": ".md",
    "format_name": "myst",
    "format_version": 0.13,
    "jupytext_version": "1.11.1"
   }
  },
  "kernelspec": {
   "display_name": "Python 3 (ipykernel)",
   "language": "python",
   "name": "python3"
  },
  "language_info": {
   "codemirror_mode": {
    "name": "ipython",
    "version": 3
   },
   "file_extension": ".py",
   "mimetype": "text/x-python",
   "name": "python",
   "nbconvert_exporter": "python",
   "pygments_lexer": "ipython3",
   "version": "3.12.9"
  },
  "source_map": [
   12,
   16,
   40,
   48,
   52,
   56,
   58,
   62,
   68,
   71,
   79,
   81,
   87,
   89,
   93,
   95,
   102,
   104,
   108,
   110,
   117,
   119,
   123,
   125,
   129,
   133,
   139,
   143,
   147,
   149,
   164,
   166,
   170,
   172,
   178,
   181,
   185,
   187,
   191,
   195,
   197,
   208,
   213,
   217,
   223,
   225,
   231,
   233,
   237,
   240,
   248,
   250,
   254,
   256,
   260,
   263,
   267,
   278,
   280,
   290,
   293,
   297,
   299,
   303,
   305,
   309,
   317,
   321,
   325,
   327,
   331,
   333,
   337,
   339,
   343,
   347,
   353,
   355,
   362,
   364,
   368,
   371,
   375
  ]
 },
 "nbformat": 4,
 "nbformat_minor": 5
}
