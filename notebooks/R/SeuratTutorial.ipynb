{
 "cells": [
  {
   "cell_type": "markdown",
   "id": "e0c6536c-ff9f-451d-808f-97bbafa8b42e",
   "metadata": {},
   "source": [
    "# Seurat guided tutorial\n",
    "### Adapted from Satija Lab\n",
    "\n",
    "The following guided tutorial was adapted from [the Satija Labs' installation instructions](https://satijalab.org/seurat/articles/install_v5) and [guided clustering tutorial](https://satijalab.org/seurat/articles/pbmc3k_tutorial)for Jupyter notebook by [Sara Ramaiah](https://github.com/saramaiah).\n",
    "\n",
    "If using this Jupyter notebook with the Docker image provided [here](https://hub.docker.com/r/saramaiah/bioinformatics-tutorials-jupyter-nb), then you **do not need** to follow the installation instruction section."
   ]
  },
  {
   "cell_type": "markdown",
   "id": "063c1353-4098-4d0d-8555-9983bdc60cef",
   "metadata": {
    "jp-MarkdownHeadingCollapsed": true
   },
   "source": [
    "## Installation instructions"
   ]
  },
  {
   "cell_type": "markdown",
   "id": "94d9cb19-ba6a-4185-af4f-a86a673203c2",
   "metadata": {},
   "source": [
    "To install Seurat, [R](https://www.r-project.org/) version 4.0 or greater is required. We also recommend installing [R Studio](https://www.rstudio.com/).\n",
    "\n",
    "### Seurat 5: Install from CRAN \n",
    " \n",
    "Seurat is available on [CRAN](https://cran.r-project.org/package=Seurat) for all platforms. To install, run: "
   ]
  },
  {
   "cell_type": "code",
   "execution_count": null,
   "id": "40434db9-0771-47e5-a89f-544038bdea45",
   "metadata": {},
   "outputs": [],
   "source": [
    "## Uncomment to install\n",
    "# install.packages('Seurat')\n",
    "# library(Seurat)"
   ]
  },
  {
   "cell_type": "markdown",
   "id": "485ee573-de36-4c50-b362-1ba1914000d0",
   "metadata": {},
   "source": [
    "Seurat does not require, but makes use of, packages developed by other labs that can substantially enhance speed and performance. These include [presto](https://github.com/immunogenomics/presto) (Korunsky/Raychaudhari labs), [BPCells](https://github.com/bnprks/BPCells) (Greenleaf Lab), and [glmGamPoi](https://github.com/const-ae/glmGamPoi) (Huber Lab). We recommend users install these along with users:"
   ]
  },
  {
   "cell_type": "code",
   "execution_count": null,
   "id": "e80adf65-0d47-457a-af77-d24ad6a0f6b7",
   "metadata": {},
   "outputs": [],
   "source": [
    "## Uncomment to add these\n",
    "# setRepositories(ind = 1:3, addURLs = c('https://satijalab.r-universe.dev', 'https://bnprks.r-universe.dev/'))\n",
    "# install.packages(c(\"BPCells\", \"presto\", \"glmGamPoi\"))"
   ]
  },
  {
   "cell_type": "markdown",
   "id": "11e485ae-4938-4486-adbd-096d7e7a4cc3",
   "metadata": {},
   "source": [
    "We also recommend installing these additional packages, which are used in our vignettes, and enhance the functionality of Seurat:\n",
    "\n",
    "* [Signac](https://github.com/stuart-lab/signac): analysis of single-cell chromatin data\n",
    "* [SeuratData](https://github.com/satijalab/seurat-data): automatically load datasets pre-packaged as Seurat objects\n",
    "* [Azimuth](https://github.com/satijalab/azimuth): local annotation of scRNA-seq and scATAC-seq queries across multiple organs and tissues\n",
    "* [SeuratWrappers](https://github.com/satijalab/seurat-wrappers): enables use of additional integration and differential expression methods"
   ]
  },
  {
   "cell_type": "code",
   "execution_count": null,
   "id": "ce8c2ceb-4f87-4875-862c-0a8bf12441ec",
   "metadata": {},
   "outputs": [],
   "source": [
    "# Uncomment to add\n",
    "# install.packages('Signac')\n",
    "# remotes::install_github(\"satijalab/seurat-data\", quiet = TRUE)\n",
    "# remotes::install_github(\"satijalab/azimuth\", quiet = TRUE)\n",
    "# remotes::install_github(\"satijalab/seurat-wrappers\", quiet = TRUE)"
   ]
  },
  {
   "cell_type": "markdown",
   "id": "f3a05ef8-8757-4d1c-946a-20ab9e9c176a",
   "metadata": {},
   "source": [
    "### Install previous versions of Seurat\n",
    "\n",
    "#### Install Seurat v4\n",
    "\n",
    "Seurat v4.4.0 can be installed with the following command:"
   ]
  },
  {
   "cell_type": "code",
   "execution_count": null,
   "id": "6bbf944c-ce20-4d78-b00e-baa0b9919d7e",
   "metadata": {},
   "outputs": [],
   "source": [
    "# This is not recommended unless it's absolutely necessary to use data built under Seurat v4.\n",
    "# install.packages('Seurat', repos = c('https://satijalab.r-universe.dev', 'https://cloud.r-project.org'))"
   ]
  },
  {
   "cell_type": "markdown",
   "id": "6b443c65-8c36-4dc5-9285-8e5bc865502e",
   "metadata": {},
   "source": [
    "#### Older versions of Seurat \n",
    "Old versions of Seurat, from Seurat v2.0.1 and up, are hosted in CRAN's archive. To install an old version of Seurat, run: "
   ]
  },
  {
   "cell_type": "code",
   "execution_count": null,
   "id": "de15ebad-5e1e-4023-89c7-d0cd42dc61f4",
   "metadata": {},
   "outputs": [],
   "source": [
    "# Install the remotes package \n",
    "## install.packages('remotes')\n",
    "# Replace 'X.X.X' with your desired version\n",
    "## remotes::install_version(package = 'Seurat', version = package_version('X.X.X'))"
   ]
  },
  {
   "cell_type": "markdown",
   "id": "ed2432c0-4adb-4bee-ac53-44e7b1a46ca0",
   "metadata": {},
   "source": [
    "For versions of Seurat older than those not hosted on CRAN (versions 1.3.0 and 1.4.0), please download the packaged source code from our [releases page](https://github.com/satijalab/seurat/releases) and [install from the tarball](https://stackoverflow.com/questions/4739837/how-do-i-install-an-r-package-from-the-source-tarball-on-windows). "
   ]
  },
  {
   "cell_type": "markdown",
   "id": "220184e1-b22d-4a4c-8ed7-b2a98deb8edb",
   "metadata": {},
   "source": [
    "### Install the development version of Seurat\n",
    "\n",
    "Install the development version of Seurat - directly from [GitHub](https://github.com/satijalab/seurat/tree/develop)."
   ]
  },
  {
   "cell_type": "code",
   "execution_count": null,
   "id": "4aa0c4c9-95e9-485a-83ca-0f7c6eabd887",
   "metadata": {},
   "outputs": [],
   "source": [
    "## Enter commands in R (or R studio, if installed)\n",
    "## Install the remotes package\n",
    "# install.packages('remotes')\n",
    "# remotes::install_github(repo = 'satijalab/seurat', ref = 'develop')\n",
    "# library(Seurat)"
   ]
  },
  {
   "cell_type": "markdown",
   "id": "036a37f3-3c4e-4a6c-85f1-1d9ff8615cdc",
   "metadata": {},
   "source": [
    "### Docker\n",
    "\n",
    "We provide docker images for Seurat via [dockerhub](https://hub.docker.com/r/satijalab/seurat).\n",
    "\n",
    "To pull the latest image from the command line:\n",
    "```\n",
    "$ docker pull satijalab/seurat:latest\n",
    "```\n",
    "\n",
    "To use as a base image in a new Dockerfile:\n",
    "```sh\n",
    "FROM satijalab/seurat:latest\n",
    "```"
   ]
  },
  {
   "cell_type": "markdown",
   "id": "a54a9dc0-2391-4be7-a2d6-e0478d6dd2b1",
   "metadata": {},
   "source": [
    "## Guided clustering tutorial"
   ]
  },
  {
   "cell_type": "markdown",
   "id": "f4f913b2-ce0e-40ec-a58e-edb5cf3cc34d",
   "metadata": {},
   "source": [
    "### Setup the Seurat Object\n",
    "\n",
    "For this tutorial, we will be analyzing a dataset of Peripheral Blood Mononuclear Cells (PBMC) freely available from 10X Genomics. There are 2,700 single cells that were sequenced on the Illumina NextSeq 500. The raw data can be found [here](https://cf.10xgenomics.com/samples/cell/pbmc3k/pbmc3k_filtered_gene_bc_matrices.tar.gz).\n",
    "\n",
    "We start by reading in the data. The `Read10X()` function reads in the output of the [cellranger](https://support.10xgenomics.com/single-cell-gene-expression/software/pipelines/latest/what-is-cell-ranger) pipeline from 10X, returning a unique molecular identified (UMI) count matrix. The values in this matrix represent the number of molecules for each feature (i.e. gene; row) that are detected in each cell (column). Note that more recent versions of cellranger now also output using the [h5 file format](https://support.10xgenomics.com/single-cell-gene-expression/software/pipelines/latest/advanced/h5_matrices), which can be read in using the `Read10X_h5()` function in Seurat.\n",
    "\n",
    "We next use the count matrix to create a `Seurat` object. The object serves as a container that contains both data (like the count matrix) and analysis (like PCA, or clustering results) for a single-cell dataset. For more information, check out our [Seurat object interaction vignette], or our [GitHub Wiki](https://github.com/satijalab/seurat/wiki). For example, in Seurat v5, the count matrix is stored in `pbmc[[\"RNA\"]]$counts`."
   ]
  },
  {
   "cell_type": "code",
   "execution_count": null,
   "id": "522b2626-fb0a-43df-ab1f-90d30045e515",
   "metadata": {},
   "outputs": [],
   "source": [
    "library(dplyr)\n",
    "library(Seurat)\n",
    "library(patchwork)\n",
    "\n",
    "# Load the PBMC dataset\n",
    "pbmc.data <- Read10X(data.dir = \"./filtered_gene_bc_matrices/hg19\")\n",
    "# Initialize the Seurat object with the raw (non-normalized data).\n",
    "pbmc <- CreateSeuratObject(counts = pbmc.data, project = \"pbmc3k\", min.cells = 3, min.features = 200)\n",
    "pbmc"
   ]
  },
  {
   "cell_type": "markdown",
   "id": "6e83839b-918b-40a0-b4d4-530dbeb16772",
   "metadata": {},
   "source": [
    "What does data in a count matrix look like?"
   ]
  },
  {
   "cell_type": "code",
   "execution_count": null,
   "id": "d50cff3b-37ee-4443-9642-b6e006829e4a",
   "metadata": {},
   "outputs": [],
   "source": [
    "# Lets examine a few genes in the first thirty cells\n",
    "pbmc.data[c(\"CD3D\", \"TCL1A\", \"MS4A1\"), 1:30]"
   ]
  },
  {
   "cell_type": "markdown",
   "id": "1efdf979-d64e-4e9f-8833-8dcdb0127277",
   "metadata": {},
   "source": [
    "The `.` values in the matrix represent 0s (no molecules detected). Since most values in an scRNA-seq matrix are 0, Seurat uses a sparse-matrix representation whenever possible. This results in significant memory and speed savings for Drop-seq/inDrop/10x data."
   ]
  },
  {
   "cell_type": "code",
   "execution_count": null,
   "id": "9fd489ba-78d2-42cd-a65a-e0b7d189ff0c",
   "metadata": {},
   "outputs": [],
   "source": [
    "dense.size <- object.size(as.matrix(pbmc.data))\n",
    "dense.size"
   ]
  },
  {
   "cell_type": "code",
   "execution_count": null,
   "id": "bf9c8a55-c239-45d9-99e5-e06264f389e8",
   "metadata": {},
   "outputs": [],
   "source": [
    "sparse.size <- object.size(pbmc.data)\n",
    "sparse.size"
   ]
  },
  {
   "cell_type": "code",
   "execution_count": null,
   "id": "51d97e9a-a00c-4b77-819b-729da76210e1",
   "metadata": {},
   "outputs": [],
   "source": [
    "dense.size/sparse.size"
   ]
  },
  {
   "cell_type": "markdown",
   "id": "e518b740-46a8-4a78-b4a3-178759c3be4f",
   "metadata": {},
   "source": [
    "### Standard pre-processing workflow\n",
    "\n",
    "The steps below encompass the standard pre-processing workflow for scRNA-seq data in Seurat. These represent the selection and filtration of cells based on QC metrics, data normalization and scaling, and the detection of highly variable features.\n",
    "\n",
    "#### QC and selecting cells for further analysis\n",
    "\n",
    "Seurat allows you to easily explore QC metrics and filter cells based on any user-defined criteria. A few QC metrics [commonly used](https://www.ncbi.nlm.nih.gov/pmc/articles/PMC4758103/) by the community include\n",
    "\n",
    "* The number of unique genes detected in each cell. \n",
    "    + Low-quality cells or empty droplets will often have very few genes\n",
    "    + Cell doublets or multiplets may exhibit an aberrantly high gene count\n",
    "* Similarly, the total number of molecules detected within a cell (correlates strongly with unique genes)\n",
    "* The percentage of reads that map to the mitochondrial genome\n",
    "    + Low-quality / dying cells often exhibit extensive mitochondrial contamination\n",
    "    + We calculate mitochondrial QC metrics with the `PercentageFeatureSet()` function, which calculates the percentage of counts originating from a set of features\n",
    "    + We use the set of all genes starting with `MT-` as a set of mitochondrial genes"
   ]
  },
  {
   "cell_type": "code",
   "execution_count": null,
   "id": "cf07e43d-6f2f-47da-a7d6-0d1753cdf8a3",
   "metadata": {},
   "outputs": [],
   "source": [
    "# The [[ operator can add columns to object metadata. This is a great place to stash QC stats\n",
    "pbmc[[\"percent.mt\"]] <- PercentageFeatureSet(pbmc, pattern = \"^MT-\")"
   ]
  },
  {
   "attachments": {},
   "cell_type": "markdown",
   "id": "d176bf58-85c7-4dbe-95cc-4c0500458fa9",
   "metadata": {},
   "source": [
    "*Where are QC metrics stored in Seurat?*\n",
    "\n",
    "* The number of unique genes and total molecules are automatically calculated during `CreateSeuratObject()`\n",
    "    + You can find them stored in the object meta data"
   ]
  },
  {
   "cell_type": "code",
   "execution_count": null,
   "id": "4db52c91-2321-47ae-acfa-058aa5ce6dcb",
   "metadata": {},
   "outputs": [],
   "source": [
    "# Show QC metrics for the first 5 cells\n",
    "head(pbmc@meta.data, 5)"
   ]
  },
  {
   "cell_type": "markdown",
   "id": "930fb6b1-d5c8-41be-b52d-3527deb6c857",
   "metadata": {},
   "source": [
    "In the example below, we visualize QC metrics, and use these to filter cells.\n",
    "\n",
    "* We filter cells that have unique feature counts over 2,500 or less than 200\n",
    "* We filter cells that have >5% mitochondrial counts"
   ]
  },
  {
   "cell_type": "code",
   "execution_count": null,
   "id": "3151fa62-3171-4b05-88a3-cc31fa441453",
   "metadata": {},
   "outputs": [],
   "source": [
    "#Visualize QC metrics as a violin plot\n",
    "VlnPlot(pbmc, features = c(\"nFeature_RNA\", \"nCount_RNA\", \"percent.mt\"), ncol = 3)\n",
    "\n",
    "# FeatureScatter is typically used to visualize feature-feature relationships, but can be used for anything calculated by the object, i.e. columns in object metadata, PC scores etc.\n",
    "\n",
    "plot1 <- FeatureScatter(pbmc, feature1 = \"nCount_RNA\", feature2 = \"percent.mt\") \n",
    "plot2 <- FeatureScatter(pbmc, feature1 = \"nCount_RNA\", feature2 = \"nFeature_RNA\") \n",
    "plot1 + plot2\n",
    "\n",
    "pbmc <- subset(pbmc, subset = nFeature_RNA > 200 & nFeature_RNA < 2500 & percent.mt < 5)"
   ]
  },
  {
   "cell_type": "markdown",
   "id": "7b07ebbf-07a9-4e03-8aad-9badef67b936",
   "metadata": {},
   "source": [
    "### Normalizing the data\n",
    "\n",
    "After removing unwanted cells from the dataset, the next step is to normalize the data. By default, we employ a global-scaling normalization method \"LogNormalize\" that normalizes the feature expression measurements for each cell by the total expression, multiplies this by a scale factor (10,000 by default), and log-transforms the result. In Seurat v5, Normalized values are stored in `pbmc[[\"RNA\"]]$data`."
   ]
  },
  {
   "cell_type": "code",
   "execution_count": null,
   "id": "10e4b970-d5ae-427e-b49a-af1b1f89fdad",
   "metadata": {},
   "outputs": [],
   "source": [
    "pbmc <- NormalizeData(pbmc, normalization.method = \"LogNormalize\", scale.factor = 1e4)"
   ]
  },
  {
   "cell_type": "markdown",
   "id": "7661f6a2-d238-4091-911e-4b1413c6aaa6",
   "metadata": {},
   "source": [
    "For clarity, in this previous line of code (and in future commands), we provide the default values for certain parameters in the function call. However, this isn't required and the same behavior can be achieved with:\n",
    "```\n",
    "pbmc <- NormalizeData(pbmc)\n",
    "```\n",
    "While this method of normalization is standard and widely used in scRNA-seq analysis, global-scaling relies on an assumption that each cell originally contains the same number of RNA molecules. We and others have developed alternative workflows for the single cell preprocessing that do not make these assumptions. For users who are interested, please check out our `SCTransform()` normalization workflow. The method is described in our [paper](https://genomebiology.biomedcentral.com/articles/10.1186/s13059-021-02584-9), with a separate vignette using Seurat [here](https://satijalab.org/seurat/articles/sctransform_vignette.html). The use of `SCTransform` replaces the need to run `NormalizeData`, `FindVariableFeatures`, or `ScaleData` (described below.)"
   ]
  },
  {
   "cell_type": "markdown",
   "id": "5894ccc2-0a1e-4aac-9974-6dbf8b1d80af",
   "metadata": {},
   "source": [
    "### Identification of highly variable features (feature selection)\n",
    "\n",
    "We next calculate a subset of features that exhibit high cell-to-cell variation in the dataset (i.e, they are highly expressed in some cells, and lowly expressed in others). We and [others](https://www.nature.com/articles/nmeth.2645) have found that focusing on these genes in downstream analysis helps to highlight biological signal in single-cell datasets.\n",
    "\n",
    "Our procedure in Seurat is described in detail [here](https://doi.org/10.1016/j.cell.2019.05.031), and improves on previous versions by directly modeling the mean-variance relationship inherent in single-cell data, and is implemented in the `FindVariableFeatures()` function. By default, we return 2,000 features per dataset. These will be used in downstream analysis, like PCA."
   ]
  },
  {
   "cell_type": "code",
   "execution_count": null,
   "id": "74c91a75-75b0-43df-a1f8-22350b5bc099",
   "metadata": {},
   "outputs": [],
   "source": [
    "pbmc <- FindVariableFeatures(pbmc, selection.method = 'vst', nfeatures = 2000)\n",
    "\n",
    "# Identify the 10 most highly variable genes\n",
    "top10 <- head(VariableFeatures(pbmc), 10)\n",
    "\n",
    "# plot variable features with and without labels\n",
    "plot1 <- VariableFeaturePlot(pbmc)\n",
    "plot2 <- LabelPoints(plot = plot1, points = top10, repel = TRUE, xnudge = 0, ynudge = 0)\n",
    "\n",
    "# Set option to change plot size in notebook, this is Jupyter-specific\n",
    "library(repr)\n",
    "options(repr.plot.width=10, repr.plot.height=4)\n",
    "\n",
    "plot1 + plot2"
   ]
  },
  {
   "cell_type": "markdown",
   "id": "6fb067af-4d44-4858-8ec0-12d4a871ef13",
   "metadata": {},
   "source": [
    "### Scaling the data\n",
    "\n",
    "Next, we apply a linear transformation ('scaling') that is a standard pre-processing step prior to dimensional reduction techniques like PCA. The `ScaleData()` function:\n",
    "\n",
    "* Shifts the expression of each gene, so that the mean expression across cells is 0\n",
    "* Scales the expression of each gene, so that the variance across cells is 1\n",
    "    + This step gives equal weight in downstream analyses, so that highly-expressed genes do not dominate\n",
    "* The results of this are stored in `pbmc[[\"RNA\"]]$scale.data`\n",
    "* By default, only variable features are scaled. \n",
    "* You can specify the `features` argument to scale additional features\n"
   ]
  },
  {
   "cell_type": "code",
   "execution_count": null,
   "id": "76c7a27c-6727-41ee-b643-317eb1689c7e",
   "metadata": {},
   "outputs": [],
   "source": [
    "all.genes <- rownames(pbmc)\n",
    "pbmc <- ScaleData(pbmc, features = all.genes)"
   ]
  },
  {
   "cell_type": "markdown",
   "id": "ab3e68f8-409a-4f05-9027-58adcedcc2dc",
   "metadata": {},
   "source": [
    "*How can I remove unwanted sources of variation?*\n",
    "\n",
    "In Seurat, we also use the `ScaleData()` function to remove unwanted sources of variation from a single-cell dataset. For example, we could 'regress out' heterogeneity associated with (for example) [cell cycle stage](https://satijalab.org/seurat/articles/cell_cycle_vignette), or mitochondrial contamination i.e.: \n",
    "```\n",
    "pbmc <- ScaleData(pbmc, vars.to.regress = 'percent.mt')\n",
    "```\n",
    "However, particularly for advanced users who would like to use this functionality, we strongly recommend the use of our new normalization workflow, `SCTransform()`. The method is described in our [paper](https://genomebiology.biomedcentral.com/articles/10.1186/s13059-021-02584-9), with a separate vignette using Seurat [here](https://satijalab.org/seurat/articles/sctransform_vignette). As with `ScaleData()`, the function `SCTransform()` also includes a `vars.to.regress` parameter.\n",
    "\n",
    "*Editor's note*:\n",
    " - While the Satija lab recommends the SCTransform workflow, it seems to have garnered mixed opinions in the field (like most scRNA-seq workflows tend to).\n",
    " - Note that the normalization step is one of, if not the most important step when it comes to the quality of your downstream results, so you should take your time making sure you've made a choice that you're happy with.\n",
    " - For future projects, I would advise that you follow the general consensus (if it exists) for your given tissue type and organism."
   ]
  },
  {
   "cell_type": "markdown",
   "id": "81439f0e-b060-4f10-9d43-d8775f1a2573",
   "metadata": {},
   "source": [
    "### Perform linear dimensional reduction\n",
    "\n",
    "Next we perform PCA on the scaled data. By default, only the previously determined variable features are used as input, but can be defined using `features` argument if you wish to choose a different subset (if you do want to use a custom subset of features, make sure you pass these to `ScaleData` first).\n",
    "\n",
    "For the first principal components, Seurat outputs a list of genes with the most positive and negative loadings, representing modules of genes that exhibit either correlation (or anti-correlation) across single-cells in the dataset.\n"
   ]
  },
  {
   "cell_type": "code",
   "execution_count": null,
   "id": "39015ce2-9850-40b8-8002-faa424f18cfa",
   "metadata": {},
   "outputs": [],
   "source": [
    "pbmc <- RunPCA(pbmc, features = VariableFeatures(object = pbmc))"
   ]
  },
  {
   "cell_type": "markdown",
   "id": "98dae8d2-0c55-4dd3-89a5-99cd5d47950e",
   "metadata": {},
   "source": [
    "Seurat provides several useful ways of visualizing both cells and features that define the PCA, including `VizDimReduction()`, `DimPlot()`, and `DimHeatmap()`"
   ]
  },
  {
   "cell_type": "code",
   "execution_count": null,
   "id": "b78e0105-4311-4b93-9c76-5bbb5295227b",
   "metadata": {},
   "outputs": [],
   "source": [
    "# Examine and visualize PCA results a few different ways\n",
    "print(pbmc[['pca']], dims = 1:5, nfeatures = 5)\n",
    "\n",
    "options(repr.plot.width=10, repr.plot.height=6)\n",
    "VizDimLoadings(pbmc, dims = 1:2, reduction = 'pca')\n",
    "\n",
    "options(repr.plot.width=10, repr.plot.height=10)\n",
    "DimPlot(pbmc, reduction = 'pca') + NoLegend()"
   ]
  },
  {
   "cell_type": "markdown",
   "id": "ab981512-1116-415f-84a4-0d4054652256",
   "metadata": {},
   "source": [
    "In particular `DimHeatmap()` allows for easy exploration of the primary sources of heterogeneity in a dataset, and can be useful when trying to decide which PCs to include for further downstream analyses. Both cells and features are ordered according to their PCA scores. Setting `cells` to a number plots the 'extreme' cells on both ends of the spectrum, which dramatically speeds plotting for large datasets. Though clearly a supervised analysis, we find this to be a valuable tool for exploring correlated feature sets.\n"
   ]
  },
  {
   "cell_type": "code",
   "execution_count": null,
   "id": "110b1e3f-cead-49a4-b182-661485e403ba",
   "metadata": {},
   "outputs": [],
   "source": [
    "DimHeatmap(pbmc, dims = 1, cells = 500, balanced = TRUE)\n",
    "DimHeatmap(pbmc, dims = 1:15, cells = 500, balanced = TRUE)"
   ]
  },
  {
   "cell_type": "markdown",
   "id": "9166a2b6-3025-4c66-8760-532f024a700a",
   "metadata": {},
   "source": [
    "### Determine the 'dimensionality' of the dataset\n",
    "\n",
    "To overcome the extensive technical noise in any single feature for scRNA-seq data, Seurat clusters cells based on their PCA scores, with each PC essentially representing a 'metafeature' that combines information across a correlated feature set. The top principal components therefore represent a robust compression of the dataset. However, how many components should we choose to include? 10? 20? 100?\n",
    "\n",
    "In [Macosko *et al*](http://www.cell.com/abstract/S0092-8674(15)00549-8), we implemented a resampling test inspired by the JackStraw procedure. While still available in Seurat [(see previous vignette)](https://satijalab.org/seurat/articles/pbmc3k_tutorial), this is a slow and computationally expensive procedure, and we is no longer routinely used in single cell analysis.\n",
    "\n",
    "\n",
    "An alternative heuristic method generates an 'Elbow plot': a ranking of principle components based on the percentage of variance explained by each one (`ElbowPlot()` function). In this example, we can observe an 'elbow' around PC9-10, suggesting that the majority of true signal is captured in the first 10 PCs. "
   ]
  },
  {
   "cell_type": "code",
   "execution_count": null,
   "id": "42e488ef-3684-405e-a992-a4cffac02667",
   "metadata": {},
   "outputs": [],
   "source": [
    "options(repr.plot.width=10, repr.plot.height=6)\n",
    "ElbowPlot(pbmc)"
   ]
  },
  {
   "cell_type": "markdown",
   "id": "697c32cc-d90e-475a-ba8f-0c19c060db38",
   "metadata": {},
   "source": [
    "Identifying the true dimensionality of a dataset -- can be challenging/uncertain for the user. We therefore suggest these multiple approaches for users. The first is more supervised, exploring PCs to determine relevant sources of heterogeneity, and could be used in conjunction with GSEA for example. The second (`ElbowPlot`) The third is a heuristic that is commonly used, and can be calculated instantly. In this example, we might have been justified in choosing anything between PC 7-12 as a cutoff. \n",
    "\n",
    "We chose 10 here, but encourage users to consider the following:\n",
    "\n",
    "* Dendritic cell and NK aficionados may recognize that genes strongly associated with PCs 12 and 13 define rare immune subsets (i.e. MZB1 is a marker for plasmacytoid DCs). However, these groups are so rare, they are difficult to distinguish from background noise for a dataset of this size without prior knowledge. \n",
    "* We encourage users to repeat downstream analyses with a different number of PCs (10, 15, or even 50!). As you will observe, the results often do not differ dramatically.\n",
    "* We advise users to err on the higher side when choosing this parameter. For example, performing downstream analyses with only 5 PCs does significantly and adversely affect results."
   ]
  },
  {
   "cell_type": "markdown",
   "id": "edfa15d7-395c-489e-b345-04599483ec02",
   "metadata": {},
   "source": [
    "### Cluster the cells\n",
    "\n",
    "Seurat  applies a graph-based clustering approach, building upon initial strategies in ([Macosko *et al*](http://www.cell.com/abstract/S0092-8674(15)00549-8)). Importantly, the *distance metric* which drives the clustering analysis (based on previously identified PCs) remains the same. However, our approach to partitioning the cellular distance matrix into clusters has dramatically improved. Our approach was heavily inspired by recent manuscripts which applied graph-based clustering approaches to scRNA-seq data [[SNN-Cliq, Xu and Su, Bioinformatics, 2015]](http://bioinformatics.oxfordjournals.org/content/early/2015/02/10/bioinformatics.btv088.abstract) and CyTOF data [[PhenoGraph, Levine *et al*., Cell, 2015]](http://www.ncbi.nlm.nih.gov/pubmed/26095251). Briefly, these methods embed cells in a graph structure - for example a K-nearest neighbor (KNN) graph, with edges drawn between cells with similar feature expression patterns, and then attempt to partition this graph into highly interconnected 'quasi-cliques' or 'communities'. \n",
    "\n",
    "As in PhenoGraph, we first construct a KNN graph based on the euclidean distance in PCA space, and refine the edge weights between any two cells based on the shared overlap in their local neighborhoods (Jaccard similarity). This step is performed using the `FindNeighbors()` function, and takes as input the previously defined dimensionality of the dataset (first 10 PCs).\n",
    "\n",
    "To cluster the cells, we next apply modularity optimization techniques such as the Louvain algorithm (default) or SLM [[SLM, Blondel *et al*., Journal of Statistical Mechanics]](http://dx.doi.org/10.1088/1742-5468/2008/10/P10008), to iteratively group cells together, with the goal of optimizing the standard modularity function. The `FindClusters()` function implements this procedure, and contains a resolution parameter that sets the 'granularity' of the downstream clustering, with increased values leading to a greater number of clusters. We find that setting this parameter between 0.4-1.2 typically returns good results for single-cell datasets of around 3K cells. Optimal resolution often increases for larger datasets. The clusters can be found using the `Idents()` function."
   ]
  },
  {
   "cell_type": "code",
   "execution_count": null,
   "id": "bec4268e-6df9-4923-ae57-ca726e4fdd90",
   "metadata": {},
   "outputs": [],
   "source": [
    "pbmc <- FindNeighbors(pbmc, dims = 1:10)\n",
    "pbmc <- FindClusters(pbmc, resolution = 0.5)\n",
    "\n",
    "# Look at cluster IDs of the first 5 cells\n",
    "head(Idents(pbmc), 5)"
   ]
  },
  {
   "cell_type": "markdown",
   "id": "050fb5ff-d27d-489b-8428-707208d6d2bf",
   "metadata": {},
   "source": [
    "### Run non-linear dimensional reduction (UMAP/tSNE)\n",
    "\n",
    "Seurat offers several non-linear dimensional reduction techniques, such as tSNE and UMAP, to visualize and explore these datasets. The goal of these algorithms is to learn underlying structure in the dataset, in order to place similar cells together in low-dimensional space. Therefore, cells that are grouped together within graph-based clusters determined above should co-localize on these dimension reduction plots. \n",
    "\n",
    "While we and others have routinely found 2D visualization techniques like tSNE and UMAP to be valuable tools for exploring datasets, all visualization techniques have limitations, and cannot fully represent the complexity of the underlying data. In particular, these methods aim to preserve local distances in the dataset (i.e. ensuring that cells with very similar gene expression profiles co-localize), but often do not preserve more global relationships. We encourage users to leverage techniques like UMAP for visualization, but to avoid drawing biological conclusions solely on the basis of visualization techniques."
   ]
  },
  {
   "cell_type": "code",
   "execution_count": null,
   "id": "955ee3d6-e505-433e-91ac-ccb3bdf45480",
   "metadata": {},
   "outputs": [],
   "source": [
    "# The IRdisplay function clear_output will allow the code to execute, then clear the output>\n",
    "library(IRdisplay)\n",
    "pbmc <- RunUMAP(pbmc, dims = 1:10)\n",
    "clear_output(wait = FALSE)"
   ]
  },
  {
   "cell_type": "code",
   "execution_count": null,
   "id": "ab0ea0f6-437e-45ef-857c-e3b51104a69b",
   "metadata": {},
   "outputs": [],
   "source": [
    "# note that you can set `label = TRUE` or use the LabelClusters function to help label individual clusters\n",
    "options(repr.plot.width=10, repr.plot.height=10)\n",
    "DimPlot(pbmc, reduction = 'umap')"
   ]
  },
  {
   "cell_type": "markdown",
   "id": "cb86d78d-7395-476c-98f2-84416228cb87",
   "metadata": {},
   "source": [
    "You can save the object at this point so that it can easily be loaded back in without having to rerun the computationally intensive steps performed above, or easily shared with collaborators.\n",
    "\n",
    "```\n",
    "saveRDS(pbmc, file = \"../output/pbmc_tutorial.rds\")\n",
    "```"
   ]
  },
  {
   "cell_type": "markdown",
   "id": "9522e51c-4650-4943-b1e9-77cfd41e7094",
   "metadata": {},
   "source": [
    "### Finding differentially expressed features (cluster biomarkers)\n",
    "\n",
    "Seurat can help you find markers that define clusters via differential expression (DE). By default, it identifies positive and negative markers of a single cluster (specified in `ident.1`), compared to all other cells.  `FindAllMarkers()` automates this process for all clusters, but you can also test groups of clusters vs. each other, or against all cells.\n",
    "\n",
    "In Seurat v5, we use the presto package (as described [here](https://www.biorxiv.org/content/10.1101/653253v1) and available for installation [here](https://github.com/immunogenomics/presto)), to dramatically improve the speed of DE analysis, particularly for large datasets. For users who are not using presto, you can examine the documentation for this function (`?FindMarkers`) to explore the `min.pct` and `logfc.threshold` parameters, which can be increased in order to increase the speed of DE testing."
   ]
  },
  {
   "cell_type": "code",
   "execution_count": null,
   "id": "57717ee2-bb27-48bf-9507-1382162201cb",
   "metadata": {},
   "outputs": [],
   "source": [
    "# find all markers of cluster 2\n",
    "cluster2.markers <- FindMarkers(pbmc, ident.1 = 2)\n",
    "head(cluster2.markers, n = 5)\n",
    "# find all markers distinguishing cluster 5 from clusters 0 and 3\n",
    "cluster5.markers <- FindMarkers(pbmc, ident.1 = 5, ident.2 = c(0, 3))\n",
    "head(cluster5.markers, n = 5)\n",
    "# find markers for every cluster compared to all remaining cells, report only the positive ones\n",
    "pbmc.markers <- FindAllMarkers(pbmc, only.pos = TRUE)\n",
    "\n",
    "clear_output(wait = FALSE) # THIS WILL CLEAR OUT ALL OUTPUT AFTER RUNNING THE CODE ABOVE"
   ]
  },
  {
   "cell_type": "markdown",
   "id": "b1beb5e9-4cb2-4563-9c94-07f5257a510d",
   "metadata": {},
   "source": [
    "Seurat has several tests for differential expression which can be set with the test.use parameter (see our [DE vignette](de_vignette.html) for details). For example, the ROC test returns the 'classification power' for any individual marker (ranging from 0 - random, to 1 - perfect)."
   ]
  },
  {
   "cell_type": "code",
   "execution_count": null,
   "id": "f72c2e3e-0b71-4a3c-ae4c-93df650bb228",
   "metadata": {},
   "outputs": [],
   "source": [
    "cluster0.markers <- FindMarkers(pbmc, ident.1 = 0, logfc.threshold = 0.25, test.use = \"roc\", only.pos = TRUE)"
   ]
  },
  {
   "cell_type": "markdown",
   "id": "464c713e-749f-4233-89c2-e9827e3b8fc0",
   "metadata": {},
   "source": [
    "We include several tools for visualizing marker expression. `VlnPlot()` (shows expression probability distributions across clusters), and `FeaturePlot()` (visualizes feature expression on a tSNE or PCA plot) are our most commonly used visualizations. We also suggest exploring `RidgePlot()`, `CellScatter()`, and `DotPlot()` as additional methods to view your dataset."
   ]
  },
  {
   "cell_type": "code",
   "execution_count": null,
   "id": "4fd86da6-066a-4ee6-9b10-14d3e75e4bf1",
   "metadata": {},
   "outputs": [],
   "source": [
    "options(repr.plot.width=10, repr.plot.height=5)\n",
    "VlnPlot(pbmc, features = c(\"MS4A1\", \"CD79A\"))\n",
    "# you can plot raw counts as well\n",
    "VlnPlot(pbmc, features = c(\"NKG7\", \"PF4\"), layer = 'counts', log = TRUE)"
   ]
  },
  {
   "cell_type": "code",
   "execution_count": null,
   "id": "b616e548-7285-485e-a4b5-09075ffdb5b7",
   "metadata": {},
   "outputs": [],
   "source": [
    "options(repr.plot.width=10, repr.plot.height=8)\n",
    "FeaturePlot(pbmc, features = c(\"MS4A1\", \"GNLY\", \"CD3E\", \"CD14\", \"FCER1A\", \"FCGR3A\", \"LYZ\", \"PPBP\", \"CD8A\"))"
   ]
  },
  {
   "cell_type": "markdown",
   "id": "7e7d4392-b0d0-4482-b42d-900838ad525b",
   "metadata": {},
   "source": [
    "`DoHeatmap()` generates an expression heatmap for given cells and features. In this case, we are plotting the top 20 markers (or all markers if less than 20) for each cluster."
   ]
  },
  {
   "cell_type": "code",
   "execution_count": null,
   "id": "90a2bc23-6a21-47b8-8a0d-362cbaaeb01a",
   "metadata": {},
   "outputs": [],
   "source": [
    "options(repr.plot.width=10, repr.plot.height=8)\n",
    "pbmc.markers %>%\n",
    "    group_by(cluster) %>%\n",
    "    dplyr::filter(avg_log2FC > 1) %>%\n",
    "    slice_head(n = 10) %>%\n",
    "    ungroup() -> top10\n",
    "DoHeatmap(pbmc, features = top10$gene) + NoLegend()"
   ]
  },
  {
   "cell_type": "markdown",
   "id": "3828dc36-1f73-47b4-8ebd-7113c010f567",
   "metadata": {},
   "source": [
    "### Assigning cell type identity to clusters\n",
    "\n",
    "Fortunately in the case of this dataset, we can use canonical markers to easily match the unbiased clustering to known cell types:\n",
    "\n",
    "Cluster ID | Markers       | Cell Type\n",
    "-----------|---------------|----------\n",
    "0          | IL7R, CCR7    | Naive CD4+ T \n",
    "1          | CD14, LYZ     | CD14+ Mono\n",
    "2          | IL7R, S100A4  | Memory CD4+ \n",
    "3          | MS4A1         | B \n",
    "4          | CD8A          | CD8+ T \n",
    "5          | FCGR3A, MS4A7 | FCGR3A+ Mono\n",
    "6          | GNLY, NKG7    | NK \n",
    "7          | FCER1A, CST3  | DC\n",
    "8          | PPBP          | Platelet"
   ]
  },
  {
   "cell_type": "code",
   "execution_count": null,
   "id": "03282706-fb62-40af-9561-cc992c16b6f8",
   "metadata": {},
   "outputs": [],
   "source": [
    "new.cluster.ids <- c(\"Naive CD4 T\", \"CD14+ Mono\", \"Memory CD4 T\", \"B\", \"CD8 T\", \"FCGR3A+ Mono\", \"NK\", \"DC\", \"Platelet\")\n",
    "names(new.cluster.ids) <- levels(pbmc)\n",
    "pbmc <- RenameIdents(pbmc, new.cluster.ids)\n",
    "DimPlot(pbmc, reduction = 'umap', label = TRUE, pt.size = 0.5) + NoLegend()\n",
    "\n",
    "\n",
    "library(ggplot2)\n",
    "plot <- DimPlot(pbmc, reduction = \"umap\", label = TRUE, label.size = 4.5) + xlab(\"UMAP 1\") + ylab(\"UMAP 2\") + \n",
    "  theme(axis.title = element_text(size = 18), legend.text = element_text(size = 18)) + \n",
    "  guides(colour = guide_legend(override.aes = list(size = 10)))\n",
    "# Uncomment to save image to the same folder as this notebook.\n",
    "# ggsave(filename = \"pbmc3k_umap.jpg\", height = 7, width = 12, plot = plot, quality = 50)\n"
   ]
  }
 ],
 "metadata": {
  "kernelspec": {
   "display_name": "R",
   "language": "R",
   "name": "ir"
  },
  "language_info": {
   "codemirror_mode": "r",
   "file_extension": ".r",
   "mimetype": "text/x-r-source",
   "name": "R",
   "pygments_lexer": "r",
   "version": "4.4.2"
  }
 },
 "nbformat": 4,
 "nbformat_minor": 5
}
