{
 "cells": [
  {
   "cell_type": "markdown",
   "metadata": {},
   "source": [
    "Author: Lea Tran-Le (UC Berkeley), https://www.linkedin.com/in/leatranle"
   ]
  },
  {
   "cell_type": "markdown",
   "metadata": {
    "slideshow": {
     "slide_type": "slide"
    }
   },
   "source": [
    "# Table of Contents\n",
    "* [1. Bioinformatics and R](#1.-Bioinformatics-and-R)\n",
    "    * [1.1 Start with the Iris dataset](#1.1-Start-with-the-Iris-dataset)\n",
    "    * [1.2 Start with the Body Fat dataset](#1.2-Start-with-the-Body-Fat-dataset)\n",
    "    * [1.3 Retrieve Sequence Data from NCBI](#1.3-Retrieve-Squence-Data-from-NCBI)\n",
    "* [2. Bioconductor and R](#2.-Bioconductor-and-R)"
   ]
  },
  {
   "cell_type": "markdown",
   "metadata": {
    "slideshow": {
     "slide_type": "slide"
    }
   },
   "source": [
    "# 1.Bioinformatics and R"
   ]
  },
  {
   "cell_type": "markdown",
   "metadata": {},
   "source": [
    "This notebook takes a practical approach to R to derive biological understanding from large amounts of data. Most biologists can analyze their data using Microsoft Excel or more sophisticated tools such as SPSS but with the increasing usage of large sequencing datasets and computational tools to analyze genomic's data it is necessary to ensure that these automated methods are still as reproducible and robust as any other experimental approaches.\n",
    "For example after running a RNA-seq there are 10,000's of genes and the level of expression has to be measured across a dozens of samples.\n",
    "Typical questions are:\n",
    "- Which genes are differentially expressed over dozen of samples between control tests environment and treatment?\n",
    "- How can we normalize the RNA-seq counts between samples?\n",
    "- What is the correct model of statistical error to describe the distribution of counted data across samples? \n",
    "- We measure thousands of genes on a only a few dozen samples, how can we perform statistical tests to extract relevant information on a relatively small experimental design?\n",
    "...\n",
    "My intern research lab experience at both UCSB Reese lab, Neuroscience Research Institute and undergraduate UC Berkeley Coates Lab, Energy Bioscience Institute have taught me couple of facts:\n",
    "- bioinformaticians have to rerun an analysis more than once with eventually new or changed data.\n",
    "- team members be they bioinformaticians collaborators, advisor or software engineers will need to look into your project and understand it. Hence documentint the project in a non cryptic way is essential. It is like keeping a detailed lab notebook.\n",
    "- Reuse of existing software libraries. writing your own code is always exciting but code quality and speed is the essence here. R, Python have open source libraries that have been tested with a wider audience and consequently have less bugs.\n",
    "\n",
    "For all the above reasons this project will use jupyter notebook as an authoring tool.Jupyter was designed to enable sharing of notebooks with other people. The idea is that you can write some code, mix some text with the code, and publish this as a notebook.  In the notebook they can see the code as well as the actual results of running the code.\n",
    "\n",
    "Why R and not Python? I am coming into this jupyter notebook with both a biosciences and pyschology coursework background and practical research lab experiences. Most labs have gained tremendous experimental reproducible research discipline using tools such as SPSS, Excel (yes) and it is only lately that with the increase in big datasets from both high throughput data sequencing and social media big data that the need for more computer sciences engineering driven tools such as Python and R are becoming a necessity.\n",
    "\n",
    "In this first phase of this project R extensive statistical libraries and documentation is the best tool to have bioinformaticians work with software engineers as a team. In the second phase, as we move into larger data sets and more intensive compute based on machine learning we will use a combination of R and Python.\n",
    "\n",
    "From a bioinformatics standpoint though the main goal is add collaboration and sharing capabilities such as adding discussions and saved them in the project itself, being able to access and build upon other bioinformatics project. The utlimate end game is to be able to have new team members ramp up faster via collaboration and sharing capabilities."
   ]
  },
  {
   "cell_type": "markdown",
   "metadata": {
    "slideshow": {
     "slide_type": "subslide"
    }
   },
   "source": [
    "As in many of my personal previous experience learning by doing practical small projects was the best way for me to learn hence I will be applying the same principles here. \n",
    "\n",
    "We will start familiarizing ourselves with R basic scripts by exploring classical internal R data sets such as the Iris and the Body Fat dataset and move the Bioconductor.org datasets"
   ]
  },
  {
   "cell_type": "markdown",
   "metadata": {
    "slideshow": {
     "slide_type": "subslide"
    }
   },
   "source": [
    "## 1.1 Start with the Iris dataset"
   ]
  },
  {
   "cell_type": "markdown",
   "metadata": {
    "slideshow": {
     "slide_type": "fragment"
    }
   },
   "source": [
    "The iris data set https://en.wikipedia.org/wiki/Iris_flower_data_set is a favorite example of many R blogggers. The dataset Iris are part of a porfolio of R prebuilt datasets"
   ]
  },
  {
   "cell_type": "markdown",
   "metadata": {
    "slideshow": {
     "slide_type": "fragment"
    }
   },
   "source": [
    "### Step 1 - Load the Iris by typing:"
   ]
  },
  {
   "cell_type": "code",
   "execution_count": null,
   "metadata": {},
   "outputs": [],
   "source": [
    "data(iris)"
   ]
  },
  {
   "cell_type": "markdown",
   "metadata": {},
   "source": [
    "### Step 2 - Explore the Iris dataset"
   ]
  },
  {
   "cell_type": "markdown",
   "metadata": {},
   "source": [
    "First check the the size and the structure of the dataset:\n",
    "- dim() will give the dimension\n",
    "- names() displays the number of observed variables or attributes\n",
    "- str() displays the structure and attributes"
   ]
  },
  {
   "cell_type": "code",
   "execution_count": null,
   "metadata": {
    "collapsed": false,
    "jupyter": {
     "outputs_hidden": false
    }
   },
   "outputs": [],
   "source": [
    "dim(iris)"
   ]
  },
  {
   "cell_type": "code",
   "execution_count": null,
   "metadata": {
    "collapsed": false,
    "jupyter": {
     "outputs_hidden": false
    }
   },
   "outputs": [],
   "source": [
    "names(iris)"
   ]
  },
  {
   "cell_type": "code",
   "execution_count": null,
   "metadata": {
    "collapsed": false,
    "jupyter": {
     "outputs_hidden": false
    }
   },
   "outputs": [],
   "source": [
    "str(iris)"
   ]
  },
  {
   "cell_type": "markdown",
   "metadata": {},
   "source": [
    "the iris dataset consis of 50 samples from each of 3 classes of iris flowers hence the 150 observations. There are 5 attributes:\n",
    "- sepal length in cm\n",
    "- sepal width in cm\n",
    "- petal length in cm\n",
    "- petat width in cm\n",
    "- class or species: Iris Setosa, Iris Versicolour and Iris Virginica"
   ]
  },
  {
   "cell_type": "code",
   "execution_count": null,
   "metadata": {
    "collapsed": false,
    "jupyter": {
     "outputs_hidden": false
    }
   },
   "outputs": [],
   "source": [
    "head(iris)"
   ]
  },
  {
   "cell_type": "code",
   "execution_count": null,
   "metadata": {
    "collapsed": false,
    "jupyter": {
     "outputs_hidden": false
    }
   },
   "outputs": [],
   "source": [
    "tail(iris)"
   ]
  },
  {
   "cell_type": "markdown",
   "metadata": {},
   "source": [
    "### Step 3: Explore Individual Variables"
   ]
  },
  {
   "cell_type": "markdown",
   "metadata": {},
   "source": [
    "#### Distribution"
   ]
  },
  {
   "cell_type": "markdown",
   "metadata": {},
   "source": [
    "Distribution of every numeric variable can be checked with the function summary(), which returns the minimum, maximum, mean, median and the first (25%) and third(75%) quarties. For factors (or categorical variables), it shows the frequency of every level."
   ]
  },
  {
   "cell_type": "code",
   "execution_count": null,
   "metadata": {
    "collapsed": false,
    "jupyter": {
     "outputs_hidden": false
    }
   },
   "outputs": [],
   "source": [
    "summary(iris)"
   ]
  },
  {
   "cell_type": "markdown",
   "metadata": {},
   "source": [
    "##### Mean, Median, Range, Quartiles and Percentiles"
   ]
  },
  {
   "cell_type": "markdown",
   "metadata": {},
   "source": [
    "The mean, median and range can also be obtained with functions:\n",
    "- mean()\n",
    "- median()\n",
    "- range()\n",
    "\n",
    "Quartiles and percentiles are supported by function:\n",
    "- quantile()"
   ]
  },
  {
   "cell_type": "code",
   "execution_count": null,
   "metadata": {
    "collapsed": false,
    "jupyter": {
     "outputs_hidden": false
    }
   },
   "outputs": [],
   "source": [
    "quantile(iris$Sepal.Length)"
   ]
  },
  {
   "cell_type": "code",
   "execution_count": null,
   "metadata": {
    "collapsed": false,
    "jupyter": {
     "outputs_hidden": false
    }
   },
   "outputs": [],
   "source": [
    "quantile(iris$Sepal.Length, c(.1, .3, .65))"
   ]
  },
  {
   "cell_type": "markdown",
   "metadata": {},
   "source": [
    "##### Checking Variance, Distribution, Density, Factors (or categories) Frequency"
   ]
  },
  {
   "cell_type": "code",
   "execution_count": null,
   "metadata": {
    "collapsed": false,
    "jupyter": {
     "outputs_hidden": false
    }
   },
   "outputs": [],
   "source": [
    "var(iris$Sepal.Length)  # check variance of variable"
   ]
  },
  {
   "cell_type": "code",
   "execution_count": null,
   "metadata": {
    "collapsed": false,
    "jupyter": {
     "outputs_hidden": false
    }
   },
   "outputs": [],
   "source": [
    "hist(iris$Sepal.Length) # check distribution of variable"
   ]
  },
  {
   "cell_type": "code",
   "execution_count": null,
   "metadata": {
    "collapsed": false,
    "jupyter": {
     "outputs_hidden": false
    }
   },
   "outputs": [],
   "source": [
    "plot(density(iris$Sepal.Length)) # check density of variable"
   ]
  },
  {
   "cell_type": "code",
   "execution_count": null,
   "metadata": {
    "collapsed": false,
    "jupyter": {
     "outputs_hidden": false
    }
   },
   "outputs": [],
   "source": [
    "table(iris$Species) # in case variable has factors(categories) displays frequency table"
   ]
  },
  {
   "cell_type": "code",
   "execution_count": null,
   "metadata": {
    "collapsed": false,
    "jupyter": {
     "outputs_hidden": false
    }
   },
   "outputs": [],
   "source": [
    "pie(table(iris$Species)) # plot factors frequencies in a pie chart"
   ]
  },
  {
   "cell_type": "code",
   "execution_count": null,
   "metadata": {
    "collapsed": false,
    "jupyter": {
     "outputs_hidden": false
    }
   },
   "outputs": [],
   "source": [
    "barplot(table(iris$Species))"
   ]
  },
  {
   "cell_type": "markdown",
   "metadata": {},
   "source": [
    "#### Check outliers using boxplot"
   ]
  },
  {
   "cell_type": "code",
   "execution_count": null,
   "metadata": {
    "collapsed": false,
    "jupyter": {
     "outputs_hidden": false
    }
   },
   "outputs": [],
   "source": [
    "box.Sepal.Width <- boxplot(iris$Sepal.Width, horizontal=T)"
   ]
  },
  {
   "cell_type": "code",
   "execution_count": null,
   "metadata": {
    "collapsed": false,
    "jupyter": {
     "outputs_hidden": false
    }
   },
   "outputs": [],
   "source": [
    "box.Sepal.Width # Return Value of boxplot() of variable"
   ]
  },
  {
   "cell_type": "markdown",
   "metadata": {},
   "source": [
    "### Step 4: Explore Multiple Variables"
   ]
  },
  {
   "cell_type": "markdown",
   "metadata": {},
   "source": [
    "To investigate the relationships between two variables, we will calculate covarariance and correlation between variables with cov() and cor()."
   ]
  },
  {
   "cell_type": "code",
   "execution_count": null,
   "metadata": {
    "collapsed": false,
    "jupyter": {
     "outputs_hidden": false
    }
   },
   "outputs": [],
   "source": [
    "cov(iris$Sepal.Length, iris$Petal.Length)"
   ]
  },
  {
   "cell_type": "code",
   "execution_count": null,
   "metadata": {
    "collapsed": false,
    "jupyter": {
     "outputs_hidden": false
    }
   },
   "outputs": [],
   "source": [
    "cov(iris[,1:4])"
   ]
  },
  {
   "cell_type": "code",
   "execution_count": null,
   "metadata": {
    "collapsed": false,
    "jupyter": {
     "outputs_hidden": false
    }
   },
   "outputs": [],
   "source": [
    "cor(iris[,1:4])"
   ]
  },
  {
   "cell_type": "markdown",
   "metadata": {},
   "source": [
    "Calculate the average sepal width by species - we will import the data wrangling R package dplyr for this task."
   ]
  },
  {
   "cell_type": "markdown",
   "metadata": {},
   "source": [
    "Note: One of the many benefits of using R is to re-use the trememdous software library created and tested by te R community. In this exercise we will leverage two powerful data wrangling function:\n",
    "- library(plyr)\n",
    "- library(dplyr)"
   ]
  },
  {
   "cell_type": "code",
   "execution_count": null,
   "metadata": {
    "collapsed": false,
    "jupyter": {
     "outputs_hidden": false
    }
   },
   "outputs": [],
   "source": [
    "library(plyr) # load plyr 1st"
   ]
  },
  {
   "cell_type": "code",
   "execution_count": null,
   "metadata": {
    "collapsed": false,
    "jupyter": {
     "outputs_hidden": false
    }
   },
   "outputs": [],
   "source": [
    "library(dplyr) # Load dplyr 2nd"
   ]
  },
  {
   "cell_type": "code",
   "execution_count": null,
   "metadata": {
    "collapsed": false,
    "jupyter": {
     "outputs_hidden": false
    }
   },
   "outputs": [],
   "source": [
    "iris %>%\n",
    "group_by(Species) %>%\n",
    "summarise(Sepal.Width.Avg = mean(Sepal.Width)) %>%\n",
    "arrange(Sepal.Width.Avg)"
   ]
  },
  {
   "cell_type": "markdown",
   "metadata": {},
   "source": [
    "Plot Sepal.Width vs Sepal.Length - we will use R library ggplot2"
   ]
  },
  {
   "cell_type": "code",
   "execution_count": null,
   "metadata": {},
   "outputs": [],
   "source": [
    "library(ggplot2)"
   ]
  },
  {
   "cell_type": "code",
   "execution_count": null,
   "metadata": {
    "collapsed": false,
    "jupyter": {
     "outputs_hidden": false
    }
   },
   "outputs": [],
   "source": [
    "ggplot(data=iris, aes(x=Sepal.Length, y=Sepal.Width, color=Species)) + geom_point(size=3)"
   ]
  },
  {
   "cell_type": "markdown",
   "metadata": {},
   "source": [
    "### Step 5: Advanced Visualizations - this is optional but just to show the power of R"
   ]
  },
  {
   "cell_type": "markdown",
   "metadata": {},
   "source": [
    "The iris data set is a favorite example of many R bloggers when writing about R accessors , Data Exporting, Data importing, and for different visualization techniques. You can learn more here: http://www.r-statistics.com/2010/06/clustergram-visualization-and-diagnostics-for-cluster-analysis-r-code/. We will just reuse the clustergram.R code deveoped bu talalili wit other key contributors mentioned in his github. But first we need to find a load a package to source the code directly from Github. Again here the open source community expert is helping. Tony Breyal has post this \"source_https\" code that will allow us to source the clustergram.r code from github here: https://tonybreyal.wordpress.com/2011/11/24/source_https-sourcing-an-r-script-from-github/"
   ]
  },
  {
   "cell_type": "code",
   "execution_count": null,
   "metadata": {
    "collapsed": false,
    "jupyter": {
     "outputs_hidden": false
    }
   },
   "outputs": [],
   "source": [
    "source_https <- function(url, ...) {\n",
    "  # load package\n",
    "  require(RCurl)\n",
    " \n",
    "  # parse and evaluate each .R script\n",
    "  sapply(c(url, ...), function(u) {\n",
    "    eval(parse(text = getURL(u, followlocation = TRUE, cainfo = system.file(\"CurlSSL\", \"cacert.pem\", package = \"RCurl\"))), envir = .GlobalEnv)\n",
    "  })\n",
    "}"
   ]
  },
  {
   "cell_type": "code",
   "execution_count": null,
   "metadata": {
    "collapsed": false,
    "jupyter": {
     "outputs_hidden": false
    }
   },
   "outputs": [],
   "source": [
    "source_https(\"https://raw.github.com/talgalili/R-code-snippets/master/clustergram.r\") # sourcing the clustergram.R code from github"
   ]
  },
  {
   "cell_type": "markdown",
   "metadata": {},
   "source": [
    "From the dataset iris already loaded above with data(iris), we will pick a random number the function set.seed. It sets the seed of R‘s random number generator, which is useful for creating simulations or random objects that can be reproduced."
   ]
  },
  {
   "cell_type": "code",
   "execution_count": null,
   "metadata": {
    "collapsed": false,
    "jupyter": {
     "outputs_hidden": false
    }
   },
   "outputs": [],
   "source": [
    "set.seed(250) # random number generation"
   ]
  },
  {
   "cell_type": "markdown",
   "metadata": {},
   "source": [
    "R makes it easy to combine multiple plots into one overall graph, using either the \n",
    "par( ) or layout( ) function.\n",
    "With the par( ) function, you can include the option mfrow=c(nrows, ncols) to create a matrix of nrows x ncols plots that are filled in by row. mfcol=c(nrows, ncols) fills in the matrix by columns."
   ]
  },
  {
   "cell_type": "code",
   "execution_count": null,
   "metadata": {
    "collapsed": false,
    "jupyter": {
     "outputs_hidden": false
    }
   },
   "outputs": [],
   "source": [
    "par(cex.lab=1.5, cex.main=1.2) #"
   ]
  },
  {
   "cell_type": "code",
   "execution_count": null,
   "metadata": {
    "collapsed": false,
    "jupyter": {
     "outputs_hidden": false
    }
   },
   "outputs": [],
   "source": [
    "data <- scale(iris[,-5]) # notice vectors scaling"
   ]
  },
  {
   "cell_type": "code",
   "execution_count": null,
   "metadata": {
    "collapsed": false,
    "jupyter": {
     "outputs_hidden": false
    }
   },
   "outputs": [],
   "source": [
    "clustergram(data, k.range=2:8, line.width=0.004) # notice how line.width is being used according to the scale of Y"
   ]
  },
  {
   "cell_type": "markdown",
   "metadata": {},
   "source": [
    "Extract from : http://www.r-statistics.com/2010/06/clustergram-visualization-and-diagnostics-for-cluster-analysis-r-code/\n",
    "...Looking at the image we can notice a few interesting things. We notice that one of the clusters formed (the lower one) stays as is no matter how many clusters we are allowing (except for one observation that goes way and then beck).\n",
    "We can also see that the second split is a solid one (in the sense that it splits the first cluster into two clusters which are not “close” to each other, and that about half the observations goes to each of the new clusters).\n",
    "And then notice how moving to 5 clusters makes almost no difference.\n",
    "Lastly, notice how when going for 8 clusters, we are practically left with 4 clusters (remember – this is according the mean of cluster centers by the loading of the first component of the PCA on the data)\n",
    "\n",
    "If I where to take something from this graph, I would say I have a strong tendency to use 3-4 clusters on this data...\n",
    "I am inviting you to read the rest of the bog and play by yourself. you will discover how clustergrams can help you explore dataset such as Iris."
   ]
  },
  {
   "cell_type": "markdown",
   "metadata": {
    "collapsed": true,
    "jupyter": {
     "outputs_hidden": true
    }
   },
   "source": [
    "# 2. Bioconductor and R"
   ]
  },
  {
   "cell_type": "markdown",
   "metadata": {},
   "source": [
    "## 2.1 Introduction to Genome Project"
   ]
  },
  {
   "cell_type": "markdown",
   "metadata": {},
   "source": [
    "### 2.1.1 Mapping, Sequencing and Genome"
   ]
  },
  {
   "cell_type": "markdown",
   "metadata": {},
   "source": [
    "This more of a high level overview and therefore simplification of what a Genome project is before diving into the Bioconductor.org R software libary. A genome project can be described as a series of activties aiming at mapping and sequencing the genome of a given species:\n",
    "- The genome project is a scientific project to determine the complete DNA sequence of a particular species\n",
    "- The mapping process identifies the relative position of genes and/or genetic markers and compile this information into a physical map of the chromosomes\n",
    "- The sequencing process determines the nucleotide order of a given DNA fragment\n",
    "- The genome itself is the whole hereditary information of an organism that is encoded in the DNA (or for some viruses RNA).This term is used to describe the complete sequence of nuclear DNA but it can also be applied to organelles which contain DNA."
   ]
  },
  {
   "cell_type": "markdown",
   "metadata": {},
   "source": [
    "### 2.1.2 Annotation"
   ]
  },
  {
   "cell_type": "markdown",
   "metadata": {},
   "source": [
    "The annotation is the process of finding genes within a genome and defining structures and/or functions of the genes. Structures may include; open reading frames, exons, introns, and regulatory regions. Functions may include; the role of gene products and.or regulatory features of genes.\n",
    "\n",
    "In fact an accurate genome project includes not only a sequencing stage but also an annotation stage. In other words the information resulting from genome projects inciludes not only sequence of data but also description of the gene structures found in the genome and the function of their products."
   ]
  },
  {
   "cell_type": "markdown",
   "metadata": {},
   "source": [
    "### 2.1.3 Genome Databases"
   ]
  },
  {
   "cell_type": "markdown",
   "metadata": {},
   "source": [
    "Genome projects produces very large amounts of information stored in public repositories, such as community database or data warehouse. These repositories contains raw data such as:\n",
    "- Sequence\n",
    "- Literature\n",
    "- Gene molecular structures (may include: open reading frames, exons, intros, untranslated regions, and regulatory regions)\n",
    "- Expression of the genes (or gene expression is the process by which a gene's DNA sequence is converted into gene products. It involves transcription of DNA into RNA and may include processing RNA and translation of mRNA into proteins.\n",
    "\n",
    "Examples of Organism Community Databases, the information, tools and resources in these databases are restricted to one species\n",
    "http://www.aspgd.org/\n",
    "https://www.arabidopsis.org/\n",
    "http://www.plantgdb.org/OsGDB/\n",
    "\n",
    "The National Center for Biotechnology Information (NCBI) https://www.ncbi.nlm.nih.gov. houses a series of databases relevant to biotechnology and biomedicine and it is an important resource for bioinformatics tools and services. Major databases housed by NCBI are:\n",
    "- GenBank for DNA sequences https://en.wikipedia.org/wiki/GenBank\n",
    "- PubMed a bibliographic database for the biomedical literature https://en.wikipedia.org/wiki/PubMed\n",
    "- Other databases inclyde the NCBI Epignomices database https://en.wikipedia.org/wiki/NCBI_Epigenomics\n",
    "\n",
    "All these databases are available onlune through the Entrez search engine.\n",
    "https://en.wikipedia.org/wiki/Entrez\n",
    "\n",
    "Last but not least, NCBI is directed by David Lipman, one of the original authors of the BLAST sequence alignment program and a widely respected figure in bioinformatics https://en.wikipedia.org/wiki/BLAST"
   ]
  },
  {
   "cell_type": "markdown",
   "metadata": {},
   "source": [
    "## 2.2 Working with PubMed in R"
   ]
  },
  {
   "cell_type": "markdown",
   "metadata": {},
   "source": [
    "PubMed is a service to look into the NCBI databases literature via the NCBI-Entrez databases. R provides an interface to look into various literature via PubMed. In this section we will do a walk-thru of R capabilites:\n",
    "- to search\n",
    "- to store\n",
    "- to mine\n",
    "- to perform quantification analysis"
   ]
  },
  {
   "cell_type": "markdown",
   "metadata": {},
   "source": [
    "### 2.2.1 Step 1: Getting Bibliographic Data"
   ]
  },
  {
   "cell_type": "markdown",
   "metadata": {},
   "source": [
    "The Rismed package enables the analyses of NCBI database and is maintained by Stephanie Kovalchik."
   ]
  },
  {
   "cell_type": "code",
   "execution_count": null,
   "metadata": {
    "collapsed": false,
    "jupyter": {
     "outputs_hidden": false
    }
   },
   "outputs": [],
   "source": [
    "library(RISmed)"
   ]
  },
  {
   "cell_type": "markdown",
   "metadata": {},
   "source": [
    "you can look into the RISmed package functionalities by typing help(package=\"RISmed\")"
   ]
  },
  {
   "cell_type": "code",
   "execution_count": null,
   "metadata": {
    "collapsed": false,
    "jupyter": {
     "outputs_hidden": false
    }
   },
   "outputs": [],
   "source": [
    "help(package=\"RISmed\")"
   ]
  },
  {
   "cell_type": "markdown",
   "metadata": {},
   "source": [
    "### 2.2.2 Step 2: Load data(myeloma)"
   ]
  },
  {
   "cell_type": "code",
   "execution_count": null,
   "metadata": {
    "collapsed": false,
    "jupyter": {
     "outputs_hidden": false
    }
   },
   "outputs": [],
   "source": [
    "data(myeloma)"
   ]
  },
  {
   "cell_type": "code",
   "execution_count": null,
   "metadata": {
    "collapsed": false,
    "jupyter": {
     "outputs_hidden": false
    }
   },
   "outputs": [],
   "source": [
    "ls() # will check all the objects been loaded into your R environment. yoi should see \"myeloma\""
   ]
  },
  {
   "cell_type": "markdown",
   "metadata": {},
   "source": [
    "Note: if the memory of your machine is running thin you can remove specific object from the R environment"
   ]
  },
  {
   "cell_type": "code",
   "execution_count": null,
   "metadata": {
    "collapsed": false,
    "jupyter": {
     "outputs_hidden": false
    }
   },
   "outputs": [],
   "source": [
    "rm(clustergram) # remove clustergram program for example"
   ]
  },
  {
   "cell_type": "code",
   "execution_count": null,
   "metadata": {
    "collapsed": false,
    "jupyter": {
     "outputs_hidden": false
    }
   },
   "outputs": [],
   "source": [
    "ls()"
   ]
  },
  {
   "cell_type": "code",
   "execution_count": null,
   "metadata": {
    "collapsed": false,
    "jupyter": {
     "outputs_hidden": false
    }
   },
   "outputs": [],
   "source": [
    "str(myeloma) # display the structure of the object myeloma"
   ]
  },
  {
   "cell_type": "markdown",
   "metadata": {},
   "source": [
    "You can review each element of the dataset using the following RISmed functions:\n",
    "- AbstractText()\n",
    "- Author()\n",
    "- ArticleTitle()\n",
    "- Title()\n",
    "- PMID()"
   ]
  },
  {
   "cell_type": "code",
   "execution_count": null,
   "metadata": {
    "collapsed": false,
    "jupyter": {
     "outputs_hidden": false
    }
   },
   "outputs": [],
   "source": [
    "AbstractText(myeloma)"
   ]
  },
  {
   "cell_type": "code",
   "execution_count": null,
   "metadata": {
    "collapsed": false,
    "jupyter": {
     "outputs_hidden": false
    }
   },
   "outputs": [],
   "source": [
    "Author(myeloma)"
   ]
  },
  {
   "cell_type": "code",
   "execution_count": null,
   "metadata": {
    "collapsed": false,
    "jupyter": {
     "outputs_hidden": false
    }
   },
   "outputs": [],
   "source": [
    "ArticleTitle(myeloma)"
   ]
  },
  {
   "cell_type": "code",
   "execution_count": null,
   "metadata": {
    "collapsed": false,
    "jupyter": {
     "outputs_hidden": false
    }
   },
   "outputs": [],
   "source": [
    "Title(myeloma)"
   ]
  },
  {
   "cell_type": "code",
   "execution_count": null,
   "metadata": {
    "collapsed": false,
    "jupyter": {
     "outputs_hidden": false
    }
   },
   "outputs": [],
   "source": [
    "PMID(myeloma)"
   ]
  }
 ],
 "metadata": {
  "celltoolbar": "Slideshow",
  "kernelspec": {
   "display_name": "R",
   "language": "R",
   "name": "ir"
  },
  "language_info": {
   "codemirror_mode": "r",
   "file_extension": ".r",
   "mimetype": "text/x-r-source",
   "name": "R",
   "pygments_lexer": "r",
   "version": "4.4.2"
  }
 },
 "nbformat": 4,
 "nbformat_minor": 4
}
